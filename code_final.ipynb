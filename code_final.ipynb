{
 "cells": [
  {
   "cell_type": "code",
   "execution_count": null,
   "metadata": {},
   "outputs": [],
   "source": [
    "\n",
    "\n",
    "https://www.insee.fr/fr/statistiques/serie/010537233"
   ]
  },
  {
   "cell_type": "code",
   "execution_count": 63,
   "metadata": {
    "vscode": {
     "languageId": "r"
    }
   },
   "outputs": [],
   "source": [
    "\n",
    "options(warn = -1)\n",
    "\n",
    "figsize <- function(width, heigth) {\n",
    "     options(repr.plot.width = width, repr.plot.height = heigth)\n",
    "}"
   ]
  },
  {
   "cell_type": "code",
   "execution_count": 64,
   "metadata": {
    "vscode": {
     "languageId": "r"
    }
   },
   "outputs": [
    {
     "data": {
      "text/html": [
       "<table class=\"dataframe\">\n",
       "<caption>A Time Series: 33 × 12</caption>\n",
       "<thead>\n",
       "\t<tr><th></th><th scope=col>Jan</th><th scope=col>Feb</th><th scope=col>Mar</th><th scope=col>Apr</th><th scope=col>May</th><th scope=col>Jun</th><th scope=col>Jul</th><th scope=col>Aug</th><th scope=col>Sep</th><th scope=col>Oct</th><th scope=col>Nov</th><th scope=col>Dec</th></tr>\n",
       "</thead>\n",
       "<tbody>\n",
       "\t<tr><th scope=row>1990</th><td> 83.70</td><td> 89.56</td><td> 89.99</td><td> 91.37</td><td> 93.81</td><td> 89.73</td><td> 90.64</td><td> 90.71</td><td> 89.02</td><td> 90.31</td><td> 89.56</td><td> 91.81</td></tr>\n",
       "\t<tr><th scope=row>1991</th><td> 94.61</td><td> 94.76</td><td> 93.86</td><td> 94.24</td><td> 92.60</td><td> 91.78</td><td> 92.39</td><td> 92.70</td><td> 91.92</td><td> 92.22</td><td> 92.78</td><td> 92.00</td></tr>\n",
       "\t<tr><th scope=row>1992</th><td> 92.72</td><td> 93.11</td><td> 93.38</td><td> 94.36</td><td> 93.31</td><td> 93.60</td><td> 92.87</td><td> 90.25</td><td> 91.79</td><td> 90.78</td><td> 91.76</td><td> 92.16</td></tr>\n",
       "\t<tr><th scope=row>1993</th><td> 89.97</td><td> 91.43</td><td> 90.66</td><td> 90.43</td><td> 88.44</td><td> 90.21</td><td> 90.38</td><td> 91.08</td><td> 93.41</td><td> 91.34</td><td> 90.77</td><td> 89.14</td></tr>\n",
       "\t<tr><th scope=row>1994</th><td> 90.23</td><td> 89.61</td><td> 89.36</td><td> 89.15</td><td> 89.65</td><td> 90.28</td><td> 92.34</td><td> 98.03</td><td> 91.30</td><td> 91.36</td><td> 92.98</td><td> 92.75</td></tr>\n",
       "\t<tr><th scope=row>1995</th><td> 92.74</td><td> 92.66</td><td> 91.59</td><td> 92.89</td><td> 94.15</td><td> 95.15</td><td> 91.71</td><td> 93.90</td><td> 94.29</td><td> 94.59</td><td> 93.62</td><td> 93.22</td></tr>\n",
       "\t<tr><th scope=row>1996</th><td> 94.24</td><td> 95.37</td><td> 94.08</td><td> 94.22</td><td> 97.55</td><td> 94.21</td><td> 95.87</td><td> 95.95</td><td> 95.96</td><td> 96.11</td><td> 94.84</td><td> 97.39</td></tr>\n",
       "\t<tr><th scope=row>1997</th><td> 95.59</td><td> 96.14</td><td> 95.70</td><td> 99.07</td><td> 97.78</td><td> 97.26</td><td> 95.34</td><td> 98.09</td><td> 99.09</td><td>100.53</td><td> 99.60</td><td>102.11</td></tr>\n",
       "\t<tr><th scope=row>1998</th><td>101.32</td><td> 99.95</td><td> 99.84</td><td> 98.29</td><td> 97.67</td><td> 97.58</td><td>100.06</td><td> 96.73</td><td> 96.80</td><td> 97.49</td><td> 95.25</td><td> 96.88</td></tr>\n",
       "\t<tr><th scope=row>1999</th><td> 98.48</td><td> 97.19</td><td> 98.32</td><td> 96.11</td><td> 96.53</td><td> 98.04</td><td> 98.51</td><td> 96.17</td><td> 99.26</td><td>100.68</td><td>100.70</td><td> 95.03</td></tr>\n",
       "\t<tr><th scope=row>2000</th><td> 94.42</td><td> 95.63</td><td> 96.36</td><td> 97.68</td><td> 97.66</td><td> 95.97</td><td> 98.47</td><td> 98.76</td><td> 97.27</td><td> 97.19</td><td> 96.05</td><td> 97.84</td></tr>\n",
       "\t<tr><th scope=row>2001</th><td> 94.28</td><td> 96.20</td><td> 94.70</td><td> 99.45</td><td> 99.74</td><td> 98.27</td><td> 97.61</td><td> 98.94</td><td> 99.05</td><td> 99.76</td><td> 98.07</td><td> 99.99</td></tr>\n",
       "\t<tr><th scope=row>2002</th><td> 99.82</td><td>100.70</td><td>101.35</td><td> 98.78</td><td>100.36</td><td> 97.90</td><td> 97.62</td><td>101.38</td><td> 98.67</td><td> 98.86</td><td> 99.27</td><td> 98.72</td></tr>\n",
       "\t<tr><th scope=row>2003</th><td> 98.27</td><td> 97.86</td><td> 98.38</td><td> 99.30</td><td> 97.77</td><td> 98.49</td><td> 98.06</td><td> 95.16</td><td> 98.61</td><td> 97.30</td><td> 96.86</td><td> 98.44</td></tr>\n",
       "\t<tr><th scope=row>2004</th><td> 98.91</td><td> 97.61</td><td> 97.92</td><td> 96.80</td><td> 95.56</td><td> 97.73</td><td> 98.74</td><td> 96.11</td><td> 97.34</td><td> 97.08</td><td> 97.93</td><td> 95.90</td></tr>\n",
       "\t<tr><th scope=row>2005</th><td> 96.64</td><td> 95.84</td><td> 95.48</td><td> 95.46</td><td> 95.67</td><td> 95.50</td><td> 94.81</td><td> 97.04</td><td> 96.86</td><td> 96.64</td><td> 97.66</td><td> 96.32</td></tr>\n",
       "\t<tr><th scope=row>2006</th><td> 94.70</td><td> 95.05</td><td> 96.65</td><td> 96.33</td><td> 97.04</td><td> 95.18</td><td> 97.53</td><td> 97.19</td><td> 96.35</td><td> 97.30</td><td> 96.88</td><td> 97.74</td></tr>\n",
       "\t<tr><th scope=row>2007</th><td> 97.52</td><td> 97.42</td><td> 97.59</td><td> 99.50</td><td> 98.74</td><td> 98.52</td><td> 97.79</td><td>100.34</td><td> 97.31</td><td> 99.88</td><td> 99.22</td><td>100.14</td></tr>\n",
       "\t<tr><th scope=row>2008</th><td> 99.00</td><td> 98.85</td><td> 98.35</td><td> 99.02</td><td> 96.74</td><td> 95.97</td><td> 98.03</td><td> 96.98</td><td> 97.95</td><td> 97.48</td><td> 94.95</td><td> 99.21</td></tr>\n",
       "\t<tr><th scope=row>2009</th><td> 96.47</td><td> 97.66</td><td> 97.38</td><td> 96.83</td><td> 98.75</td><td> 98.60</td><td> 98.42</td><td> 96.85</td><td> 97.62</td><td> 96.05</td><td> 97.79</td><td> 96.21</td></tr>\n",
       "\t<tr><th scope=row>2010</th><td> 98.60</td><td> 98.00</td><td> 98.55</td><td> 96.79</td><td> 98.59</td><td> 97.70</td><td> 98.94</td><td> 97.37</td><td> 98.73</td><td> 98.92</td><td> 98.90</td><td> 96.93</td></tr>\n",
       "\t<tr><th scope=row>2011</th><td>101.11</td><td>100.81</td><td>102.11</td><td>100.17</td><td>100.01</td><td>102.56</td><td>103.67</td><td>100.92</td><td>101.47</td><td>101.39</td><td>101.72</td><td> 99.22</td></tr>\n",
       "\t<tr><th scope=row>2012</th><td> 99.87</td><td>100.41</td><td>100.83</td><td>101.23</td><td>101.61</td><td>101.39</td><td>100.66</td><td>100.87</td><td>100.52</td><td>101.72</td><td>100.60</td><td>101.11</td></tr>\n",
       "\t<tr><th scope=row>2013</th><td> 99.84</td><td>100.25</td><td> 99.85</td><td>100.35</td><td>102.12</td><td> 95.90</td><td> 97.93</td><td> 99.21</td><td> 98.70</td><td> 99.37</td><td>100.65</td><td>100.80</td></tr>\n",
       "\t<tr><th scope=row>2014</th><td> 99.56</td><td>100.25</td><td> 97.84</td><td>100.97</td><td> 99.05</td><td> 99.40</td><td> 99.81</td><td> 99.46</td><td>100.12</td><td> 98.80</td><td> 97.48</td><td> 99.01</td></tr>\n",
       "\t<tr><th scope=row>2015</th><td> 98.75</td><td> 98.49</td><td> 99.72</td><td> 99.86</td><td>100.04</td><td>101.11</td><td>100.31</td><td>100.24</td><td>100.65</td><td>101.03</td><td>100.03</td><td> 99.77</td></tr>\n",
       "\t<tr><th scope=row>2016</th><td>100.68</td><td> 99.95</td><td> 99.77</td><td> 98.36</td><td> 98.50</td><td> 98.47</td><td> 99.61</td><td> 99.86</td><td> 99.76</td><td> 98.58</td><td> 99.75</td><td> 99.52</td></tr>\n",
       "\t<tr><th scope=row>2017</th><td> 98.66</td><td> 99.36</td><td> 99.54</td><td> 98.53</td><td>100.02</td><td> 98.56</td><td> 99.72</td><td>100.50</td><td>100.51</td><td> 99.76</td><td>100.11</td><td> 99.88</td></tr>\n",
       "\t<tr><th scope=row>2018</th><td> 99.65</td><td> 99.19</td><td>100.81</td><td>100.46</td><td>100.53</td><td> 99.33</td><td> 99.73</td><td> 99.81</td><td> 98.45</td><td> 99.24</td><td> 98.58</td><td>100.07</td></tr>\n",
       "\t<tr><th scope=row>2019</th><td>100.32</td><td> 99.83</td><td> 99.05</td><td>100.59</td><td> 99.78</td><td> 99.77</td><td> 98.50</td><td> 98.41</td><td>100.21</td><td>100.10</td><td> 99.68</td><td> 99.27</td></tr>\n",
       "\t<tr><th scope=row>2020</th><td> 99.59</td><td>101.08</td><td> 99.51</td><td> 95.11</td><td> 96.58</td><td> 99.48</td><td>100.19</td><td> 98.58</td><td> 99.27</td><td> 98.75</td><td> 99.04</td><td> 98.04</td></tr>\n",
       "\t<tr><th scope=row>2021</th><td>100.01</td><td> 97.80</td><td> 99.09</td><td> 98.10</td><td> 98.98</td><td> 99.22</td><td>102.70</td><td>100.30</td><td>100.06</td><td>101.00</td><td>101.98</td><td> 99.96</td></tr>\n",
       "\t<tr><th scope=row>2022</th><td>101.43</td><td>102.17</td><td>      </td><td>      </td><td>      </td><td>      </td><td>      </td><td>      </td><td>      </td><td>      </td><td>      </td><td>      </td></tr>\n",
       "</tbody>\n",
       "</table>\n"
      ],
      "text/latex": [
       "A Time Series: 33 × 12\n",
       "\\begin{tabular}{r|llllllllllll}\n",
       "  & Jan & Feb & Mar & Apr & May & Jun & Jul & Aug & Sep & Oct & Nov & Dec\\\\\n",
       "\\hline\n",
       "\t1990 &  83.70 &  89.56 &  89.99 &  91.37 &  93.81 &  89.73 &  90.64 &  90.71 &  89.02 &  90.31 &  89.56 &  91.81\\\\\n",
       "\t1991 &  94.61 &  94.76 &  93.86 &  94.24 &  92.60 &  91.78 &  92.39 &  92.70 &  91.92 &  92.22 &  92.78 &  92.00\\\\\n",
       "\t1992 &  92.72 &  93.11 &  93.38 &  94.36 &  93.31 &  93.60 &  92.87 &  90.25 &  91.79 &  90.78 &  91.76 &  92.16\\\\\n",
       "\t1993 &  89.97 &  91.43 &  90.66 &  90.43 &  88.44 &  90.21 &  90.38 &  91.08 &  93.41 &  91.34 &  90.77 &  89.14\\\\\n",
       "\t1994 &  90.23 &  89.61 &  89.36 &  89.15 &  89.65 &  90.28 &  92.34 &  98.03 &  91.30 &  91.36 &  92.98 &  92.75\\\\\n",
       "\t1995 &  92.74 &  92.66 &  91.59 &  92.89 &  94.15 &  95.15 &  91.71 &  93.90 &  94.29 &  94.59 &  93.62 &  93.22\\\\\n",
       "\t1996 &  94.24 &  95.37 &  94.08 &  94.22 &  97.55 &  94.21 &  95.87 &  95.95 &  95.96 &  96.11 &  94.84 &  97.39\\\\\n",
       "\t1997 &  95.59 &  96.14 &  95.70 &  99.07 &  97.78 &  97.26 &  95.34 &  98.09 &  99.09 & 100.53 &  99.60 & 102.11\\\\\n",
       "\t1998 & 101.32 &  99.95 &  99.84 &  98.29 &  97.67 &  97.58 & 100.06 &  96.73 &  96.80 &  97.49 &  95.25 &  96.88\\\\\n",
       "\t1999 &  98.48 &  97.19 &  98.32 &  96.11 &  96.53 &  98.04 &  98.51 &  96.17 &  99.26 & 100.68 & 100.70 &  95.03\\\\\n",
       "\t2000 &  94.42 &  95.63 &  96.36 &  97.68 &  97.66 &  95.97 &  98.47 &  98.76 &  97.27 &  97.19 &  96.05 &  97.84\\\\\n",
       "\t2001 &  94.28 &  96.20 &  94.70 &  99.45 &  99.74 &  98.27 &  97.61 &  98.94 &  99.05 &  99.76 &  98.07 &  99.99\\\\\n",
       "\t2002 &  99.82 & 100.70 & 101.35 &  98.78 & 100.36 &  97.90 &  97.62 & 101.38 &  98.67 &  98.86 &  99.27 &  98.72\\\\\n",
       "\t2003 &  98.27 &  97.86 &  98.38 &  99.30 &  97.77 &  98.49 &  98.06 &  95.16 &  98.61 &  97.30 &  96.86 &  98.44\\\\\n",
       "\t2004 &  98.91 &  97.61 &  97.92 &  96.80 &  95.56 &  97.73 &  98.74 &  96.11 &  97.34 &  97.08 &  97.93 &  95.90\\\\\n",
       "\t2005 &  96.64 &  95.84 &  95.48 &  95.46 &  95.67 &  95.50 &  94.81 &  97.04 &  96.86 &  96.64 &  97.66 &  96.32\\\\\n",
       "\t2006 &  94.70 &  95.05 &  96.65 &  96.33 &  97.04 &  95.18 &  97.53 &  97.19 &  96.35 &  97.30 &  96.88 &  97.74\\\\\n",
       "\t2007 &  97.52 &  97.42 &  97.59 &  99.50 &  98.74 &  98.52 &  97.79 & 100.34 &  97.31 &  99.88 &  99.22 & 100.14\\\\\n",
       "\t2008 &  99.00 &  98.85 &  98.35 &  99.02 &  96.74 &  95.97 &  98.03 &  96.98 &  97.95 &  97.48 &  94.95 &  99.21\\\\\n",
       "\t2009 &  96.47 &  97.66 &  97.38 &  96.83 &  98.75 &  98.60 &  98.42 &  96.85 &  97.62 &  96.05 &  97.79 &  96.21\\\\\n",
       "\t2010 &  98.60 &  98.00 &  98.55 &  96.79 &  98.59 &  97.70 &  98.94 &  97.37 &  98.73 &  98.92 &  98.90 &  96.93\\\\\n",
       "\t2011 & 101.11 & 100.81 & 102.11 & 100.17 & 100.01 & 102.56 & 103.67 & 100.92 & 101.47 & 101.39 & 101.72 &  99.22\\\\\n",
       "\t2012 &  99.87 & 100.41 & 100.83 & 101.23 & 101.61 & 101.39 & 100.66 & 100.87 & 100.52 & 101.72 & 100.60 & 101.11\\\\\n",
       "\t2013 &  99.84 & 100.25 &  99.85 & 100.35 & 102.12 &  95.90 &  97.93 &  99.21 &  98.70 &  99.37 & 100.65 & 100.80\\\\\n",
       "\t2014 &  99.56 & 100.25 &  97.84 & 100.97 &  99.05 &  99.40 &  99.81 &  99.46 & 100.12 &  98.80 &  97.48 &  99.01\\\\\n",
       "\t2015 &  98.75 &  98.49 &  99.72 &  99.86 & 100.04 & 101.11 & 100.31 & 100.24 & 100.65 & 101.03 & 100.03 &  99.77\\\\\n",
       "\t2016 & 100.68 &  99.95 &  99.77 &  98.36 &  98.50 &  98.47 &  99.61 &  99.86 &  99.76 &  98.58 &  99.75 &  99.52\\\\\n",
       "\t2017 &  98.66 &  99.36 &  99.54 &  98.53 & 100.02 &  98.56 &  99.72 & 100.50 & 100.51 &  99.76 & 100.11 &  99.88\\\\\n",
       "\t2018 &  99.65 &  99.19 & 100.81 & 100.46 & 100.53 &  99.33 &  99.73 &  99.81 &  98.45 &  99.24 &  98.58 & 100.07\\\\\n",
       "\t2019 & 100.32 &  99.83 &  99.05 & 100.59 &  99.78 &  99.77 &  98.50 &  98.41 & 100.21 & 100.10 &  99.68 &  99.27\\\\\n",
       "\t2020 &  99.59 & 101.08 &  99.51 &  95.11 &  96.58 &  99.48 & 100.19 &  98.58 &  99.27 &  98.75 &  99.04 &  98.04\\\\\n",
       "\t2021 & 100.01 &  97.80 &  99.09 &  98.10 &  98.98 &  99.22 & 102.70 & 100.30 & 100.06 & 101.00 & 101.98 &  99.96\\\\\n",
       "\t2022 & 101.43 & 102.17 &        &        &        &        &        &        &        &        &        &       \\\\\n",
       "\\end{tabular}\n"
      ],
      "text/markdown": [
       "\n",
       "A Time Series: 33 × 12\n",
       "\n",
       "| <!--/--> | Jan | Feb | Mar | Apr | May | Jun | Jul | Aug | Sep | Oct | Nov | Dec |\n",
       "|---|---|---|---|---|---|---|---|---|---|---|---|---|\n",
       "| 1990 |  83.70 |  89.56 |  89.99 |  91.37 |  93.81 |  89.73 |  90.64 |  90.71 |  89.02 |  90.31 |  89.56 |  91.81 |\n",
       "| 1991 |  94.61 |  94.76 |  93.86 |  94.24 |  92.60 |  91.78 |  92.39 |  92.70 |  91.92 |  92.22 |  92.78 |  92.00 |\n",
       "| 1992 |  92.72 |  93.11 |  93.38 |  94.36 |  93.31 |  93.60 |  92.87 |  90.25 |  91.79 |  90.78 |  91.76 |  92.16 |\n",
       "| 1993 |  89.97 |  91.43 |  90.66 |  90.43 |  88.44 |  90.21 |  90.38 |  91.08 |  93.41 |  91.34 |  90.77 |  89.14 |\n",
       "| 1994 |  90.23 |  89.61 |  89.36 |  89.15 |  89.65 |  90.28 |  92.34 |  98.03 |  91.30 |  91.36 |  92.98 |  92.75 |\n",
       "| 1995 |  92.74 |  92.66 |  91.59 |  92.89 |  94.15 |  95.15 |  91.71 |  93.90 |  94.29 |  94.59 |  93.62 |  93.22 |\n",
       "| 1996 |  94.24 |  95.37 |  94.08 |  94.22 |  97.55 |  94.21 |  95.87 |  95.95 |  95.96 |  96.11 |  94.84 |  97.39 |\n",
       "| 1997 |  95.59 |  96.14 |  95.70 |  99.07 |  97.78 |  97.26 |  95.34 |  98.09 |  99.09 | 100.53 |  99.60 | 102.11 |\n",
       "| 1998 | 101.32 |  99.95 |  99.84 |  98.29 |  97.67 |  97.58 | 100.06 |  96.73 |  96.80 |  97.49 |  95.25 |  96.88 |\n",
       "| 1999 |  98.48 |  97.19 |  98.32 |  96.11 |  96.53 |  98.04 |  98.51 |  96.17 |  99.26 | 100.68 | 100.70 |  95.03 |\n",
       "| 2000 |  94.42 |  95.63 |  96.36 |  97.68 |  97.66 |  95.97 |  98.47 |  98.76 |  97.27 |  97.19 |  96.05 |  97.84 |\n",
       "| 2001 |  94.28 |  96.20 |  94.70 |  99.45 |  99.74 |  98.27 |  97.61 |  98.94 |  99.05 |  99.76 |  98.07 |  99.99 |\n",
       "| 2002 |  99.82 | 100.70 | 101.35 |  98.78 | 100.36 |  97.90 |  97.62 | 101.38 |  98.67 |  98.86 |  99.27 |  98.72 |\n",
       "| 2003 |  98.27 |  97.86 |  98.38 |  99.30 |  97.77 |  98.49 |  98.06 |  95.16 |  98.61 |  97.30 |  96.86 |  98.44 |\n",
       "| 2004 |  98.91 |  97.61 |  97.92 |  96.80 |  95.56 |  97.73 |  98.74 |  96.11 |  97.34 |  97.08 |  97.93 |  95.90 |\n",
       "| 2005 |  96.64 |  95.84 |  95.48 |  95.46 |  95.67 |  95.50 |  94.81 |  97.04 |  96.86 |  96.64 |  97.66 |  96.32 |\n",
       "| 2006 |  94.70 |  95.05 |  96.65 |  96.33 |  97.04 |  95.18 |  97.53 |  97.19 |  96.35 |  97.30 |  96.88 |  97.74 |\n",
       "| 2007 |  97.52 |  97.42 |  97.59 |  99.50 |  98.74 |  98.52 |  97.79 | 100.34 |  97.31 |  99.88 |  99.22 | 100.14 |\n",
       "| 2008 |  99.00 |  98.85 |  98.35 |  99.02 |  96.74 |  95.97 |  98.03 |  96.98 |  97.95 |  97.48 |  94.95 |  99.21 |\n",
       "| 2009 |  96.47 |  97.66 |  97.38 |  96.83 |  98.75 |  98.60 |  98.42 |  96.85 |  97.62 |  96.05 |  97.79 |  96.21 |\n",
       "| 2010 |  98.60 |  98.00 |  98.55 |  96.79 |  98.59 |  97.70 |  98.94 |  97.37 |  98.73 |  98.92 |  98.90 |  96.93 |\n",
       "| 2011 | 101.11 | 100.81 | 102.11 | 100.17 | 100.01 | 102.56 | 103.67 | 100.92 | 101.47 | 101.39 | 101.72 |  99.22 |\n",
       "| 2012 |  99.87 | 100.41 | 100.83 | 101.23 | 101.61 | 101.39 | 100.66 | 100.87 | 100.52 | 101.72 | 100.60 | 101.11 |\n",
       "| 2013 |  99.84 | 100.25 |  99.85 | 100.35 | 102.12 |  95.90 |  97.93 |  99.21 |  98.70 |  99.37 | 100.65 | 100.80 |\n",
       "| 2014 |  99.56 | 100.25 |  97.84 | 100.97 |  99.05 |  99.40 |  99.81 |  99.46 | 100.12 |  98.80 |  97.48 |  99.01 |\n",
       "| 2015 |  98.75 |  98.49 |  99.72 |  99.86 | 100.04 | 101.11 | 100.31 | 100.24 | 100.65 | 101.03 | 100.03 |  99.77 |\n",
       "| 2016 | 100.68 |  99.95 |  99.77 |  98.36 |  98.50 |  98.47 |  99.61 |  99.86 |  99.76 |  98.58 |  99.75 |  99.52 |\n",
       "| 2017 |  98.66 |  99.36 |  99.54 |  98.53 | 100.02 |  98.56 |  99.72 | 100.50 | 100.51 |  99.76 | 100.11 |  99.88 |\n",
       "| 2018 |  99.65 |  99.19 | 100.81 | 100.46 | 100.53 |  99.33 |  99.73 |  99.81 |  98.45 |  99.24 |  98.58 | 100.07 |\n",
       "| 2019 | 100.32 |  99.83 |  99.05 | 100.59 |  99.78 |  99.77 |  98.50 |  98.41 | 100.21 | 100.10 |  99.68 |  99.27 |\n",
       "| 2020 |  99.59 | 101.08 |  99.51 |  95.11 |  96.58 |  99.48 | 100.19 |  98.58 |  99.27 |  98.75 |  99.04 |  98.04 |\n",
       "| 2021 | 100.01 |  97.80 |  99.09 |  98.10 |  98.98 |  99.22 | 102.70 | 100.30 | 100.06 | 101.00 | 101.98 |  99.96 |\n",
       "| 2022 | 101.43 | 102.17 | <!----> | <!----> | <!----> | <!----> | <!----> | <!----> | <!----> | <!----> | <!----> | <!----> |\n",
       "\n"
      ],
      "text/plain": [
       "     Jan    Feb    Mar    Apr    May    Jun    Jul    Aug    Sep    Oct   \n",
       "1990  83.70  89.56  89.99  91.37  93.81  89.73  90.64  90.71  89.02  90.31\n",
       "1991  94.61  94.76  93.86  94.24  92.60  91.78  92.39  92.70  91.92  92.22\n",
       "1992  92.72  93.11  93.38  94.36  93.31  93.60  92.87  90.25  91.79  90.78\n",
       "1993  89.97  91.43  90.66  90.43  88.44  90.21  90.38  91.08  93.41  91.34\n",
       "1994  90.23  89.61  89.36  89.15  89.65  90.28  92.34  98.03  91.30  91.36\n",
       "1995  92.74  92.66  91.59  92.89  94.15  95.15  91.71  93.90  94.29  94.59\n",
       "1996  94.24  95.37  94.08  94.22  97.55  94.21  95.87  95.95  95.96  96.11\n",
       "1997  95.59  96.14  95.70  99.07  97.78  97.26  95.34  98.09  99.09 100.53\n",
       "1998 101.32  99.95  99.84  98.29  97.67  97.58 100.06  96.73  96.80  97.49\n",
       "1999  98.48  97.19  98.32  96.11  96.53  98.04  98.51  96.17  99.26 100.68\n",
       "2000  94.42  95.63  96.36  97.68  97.66  95.97  98.47  98.76  97.27  97.19\n",
       "2001  94.28  96.20  94.70  99.45  99.74  98.27  97.61  98.94  99.05  99.76\n",
       "2002  99.82 100.70 101.35  98.78 100.36  97.90  97.62 101.38  98.67  98.86\n",
       "2003  98.27  97.86  98.38  99.30  97.77  98.49  98.06  95.16  98.61  97.30\n",
       "2004  98.91  97.61  97.92  96.80  95.56  97.73  98.74  96.11  97.34  97.08\n",
       "2005  96.64  95.84  95.48  95.46  95.67  95.50  94.81  97.04  96.86  96.64\n",
       "2006  94.70  95.05  96.65  96.33  97.04  95.18  97.53  97.19  96.35  97.30\n",
       "2007  97.52  97.42  97.59  99.50  98.74  98.52  97.79 100.34  97.31  99.88\n",
       "2008  99.00  98.85  98.35  99.02  96.74  95.97  98.03  96.98  97.95  97.48\n",
       "2009  96.47  97.66  97.38  96.83  98.75  98.60  98.42  96.85  97.62  96.05\n",
       "2010  98.60  98.00  98.55  96.79  98.59  97.70  98.94  97.37  98.73  98.92\n",
       "2011 101.11 100.81 102.11 100.17 100.01 102.56 103.67 100.92 101.47 101.39\n",
       "2012  99.87 100.41 100.83 101.23 101.61 101.39 100.66 100.87 100.52 101.72\n",
       "2013  99.84 100.25  99.85 100.35 102.12  95.90  97.93  99.21  98.70  99.37\n",
       "2014  99.56 100.25  97.84 100.97  99.05  99.40  99.81  99.46 100.12  98.80\n",
       "2015  98.75  98.49  99.72  99.86 100.04 101.11 100.31 100.24 100.65 101.03\n",
       "2016 100.68  99.95  99.77  98.36  98.50  98.47  99.61  99.86  99.76  98.58\n",
       "2017  98.66  99.36  99.54  98.53 100.02  98.56  99.72 100.50 100.51  99.76\n",
       "2018  99.65  99.19 100.81 100.46 100.53  99.33  99.73  99.81  98.45  99.24\n",
       "2019 100.32  99.83  99.05 100.59  99.78  99.77  98.50  98.41 100.21 100.10\n",
       "2020  99.59 101.08  99.51  95.11  96.58  99.48 100.19  98.58  99.27  98.75\n",
       "2021 100.01  97.80  99.09  98.10  98.98  99.22 102.70 100.30 100.06 101.00\n",
       "2022 101.43 102.17                                                        \n",
       "     Nov    Dec   \n",
       "1990  89.56  91.81\n",
       "1991  92.78  92.00\n",
       "1992  91.76  92.16\n",
       "1993  90.77  89.14\n",
       "1994  92.98  92.75\n",
       "1995  93.62  93.22\n",
       "1996  94.84  97.39\n",
       "1997  99.60 102.11\n",
       "1998  95.25  96.88\n",
       "1999 100.70  95.03\n",
       "2000  96.05  97.84\n",
       "2001  98.07  99.99\n",
       "2002  99.27  98.72\n",
       "2003  96.86  98.44\n",
       "2004  97.93  95.90\n",
       "2005  97.66  96.32\n",
       "2006  96.88  97.74\n",
       "2007  99.22 100.14\n",
       "2008  94.95  99.21\n",
       "2009  97.79  96.21\n",
       "2010  98.90  96.93\n",
       "2011 101.72  99.22\n",
       "2012 100.60 101.11\n",
       "2013 100.65 100.80\n",
       "2014  97.48  99.01\n",
       "2015 100.03  99.77\n",
       "2016  99.75  99.52\n",
       "2017 100.11  99.88\n",
       "2018  98.58 100.07\n",
       "2019  99.68  99.27\n",
       "2020  99.04  98.04\n",
       "2021 101.98  99.96\n",
       "2022              "
      ]
     },
     "metadata": {},
     "output_type": "display_data"
    }
   ],
   "source": [
    "#********************************************************************************************\n",
    "# ce code permet de charger les données à analyser, le données sont disponible via le lien:\n",
    "#\"https://www.insee.fr/fr/statistiques/serie/010537233\"\n",
    "# la librairy ts permet de declarer la base de données comme une base en serie temporelle**\n",
    "\n",
    "data <- read.csv(\"data.csv\")\n",
    "serie <- ts(\n",
    "    data$Valeur,\n",
    "    start = c(1990, 1),\n",
    "    frequency = 12\n",
    "    )\n",
    "# Visualisation de la base de données#\n",
    "serie_complete"
   ]
  },
  {
   "cell_type": "markdown",
   "metadata": {},
   "source": [
    "# Question 1"
   ]
  },
  {
   "cell_type": "markdown",
   "metadata": {},
   "source": [
    "La série représente l''indice de la production industrielle alimentaire en France, entre 1990 et 2022."
   ]
  },
  {
   "cell_type": "code",
   "execution_count": 65,
   "metadata": {
    "vscode": {
     "languageId": "r"
    }
   },
   "outputs": [
    {
     "data": {
      "image/png": "[encoded data removed]",
      "text/plain": [
       "plot without title"
      ]
     },
     "metadata": {
      "image/png": {
       "height": 420,
       "width": 600
      }
     },
     "output_type": "display_data"
    }
   ],
   "source": [
    "# Représentation de graphique de la serie: Evolution de l'indice de production alimentaire#\n",
    "figsize(10, 7)\n",
    "plot(serie, col=4, lwd=3)"
   ]
  },
  {
   "cell_type": "markdown",
   "metadata": {},
   "source": [
    "On entrainera le modèle sur les données jusqu'en 2018, puis on cherchera à prédire les données de 2019. Cela nous permet d'éviter la période de la crise du Covid-19."
   ]
  },
  {
   "cell_type": "code",
   "execution_count": 62,
   "metadata": {
    "vscode": {
     "languageId": "r"
    }
   },
   "outputs": [
    {
     "data": {
      "image/png": "[encoded data removed]",
      "text/plain": [
       "Plot with title \"Evolution de l'indice de la production alimentaire\""
      ]
     },
     "metadata": {
      "image/png": {
       "height": 420,
       "width": 600
      }
     },
     "output_type": "display_data"
    }
   ],
   "source": [
    "\n",
    "# selection et représentation des données sur la période d'analyse#\n",
    "\n",
    "serie <- window(\n",
    "    serie,\n",
    "    end = c(2018, 12)\n",
    ")\n",
    "plot(serie, ylab = \"IPI Alimentaire\", main=\"Evolution de l'indice de la production alimentaire\",col=4, lwd=3)\n",
    "# (IPI: indice de production industrielle)"
   ]
  },
  {
   "cell_type": "code",
   "execution_count": null,
   "metadata": {},
   "outputs": [],
   "source": [
    "Comme dans toute analyse de serie temporelle il est important de voir la decomposition de notre serie, Notamment\n",
    "\\begin{itemize}\n",
    "  \\item la composante saisonnière;\n",
    "  \\item la composante tendancielle.\n",
    "end{itemize}\n",
    "Ici nous avons pas de problème de saisonnalité car la nous une série CVS.\n"
   ]
  },
  {
   "cell_type": "code",
   "execution_count": 72,
   "metadata": {
    "vscode": {
     "languageId": "r"
    }
   },
   "outputs": [
    {
     "data": {
      "image/png": "[encoded data removed]",
      "text/plain": [
       "plot without title"
      ]
     },
     "metadata": {
      "image/png": {
       "height": 420,
       "width": 1200
      }
     },
     "output_type": "display_data"
    }
   ],
   "source": [
    "# Ce code permet de visualiser la composition de notre série.\n",
    "plot(decompose(serie),,col=1, lwd=3)"
   ]
  },
  {
   "cell_type": "markdown",
   "metadata": {},
   "source": [
    "Graphiquement notre serie semble non stationnaire et possède une tendance à la hausse.\n",
    "\n",
    "On vérifie que la série n'est pas stationnaire avec les tests usuels:\n",
    "-ADF;\n",
    "-PP;\n",
    "-KPSS"
   ]
  },
  {
   "cell_type": "markdown",
   "metadata": {},
   "source": [
    "### Dickey-Fuller augmenté"
   ]
  },
  {
   "cell_type": "code",
   "execution_count": 17,
   "metadata": {
    "vscode": {
     "languageId": "r"
    }
   },
   "outputs": [
    {
     "data": {
      "text/html": [
       "<table class=\"dataframe\">\n",
       "<caption>A data.frame: 6 × 3</caption>\n",
       "<thead>\n",
       "\t<tr><th scope=col>Lag</th><th scope=col>ADF_Test</th><th scope=col>Ljung_Box_Residuals</th></tr>\n",
       "\t<tr><th scope=col>&lt;int&gt;</th><th scope=col>&lt;dbl&gt;</th><th scope=col>&lt;dbl&gt;</th></tr>\n",
       "</thead>\n",
       "<tbody>\n",
       "\t<tr><td>0</td><td>0.01000000</td><td>2.360747e-07</td></tr>\n",
       "\t<tr><td>1</td><td>0.01000000</td><td>6.037942e-02</td></tr>\n",
       "\t<tr><td>2</td><td>0.01000000</td><td>1.989800e-01</td></tr>\n",
       "\t<tr><td>3</td><td>0.02363889</td><td>4.192304e-01</td></tr>\n",
       "\t<tr><td>4</td><td>0.12892191</td><td>4.988542e-01</td></tr>\n",
       "\t<tr><td>5</td><td>0.13708265</td><td>5.507074e-01</td></tr>\n",
       "</tbody>\n",
       "</table>\n"
      ],
      "text/latex": [
       "A data.frame: 6 × 3\n",
       "\\begin{tabular}{lll}\n",
       " Lag & ADF\\_Test & Ljung\\_Box\\_Residuals\\\\\n",
       " <int> & <dbl> & <dbl>\\\\\n",
       "\\hline\n",
       "\t 0 & 0.01000000 & 2.360747e-07\\\\\n",
       "\t 1 & 0.01000000 & 6.037942e-02\\\\\n",
       "\t 2 & 0.01000000 & 1.989800e-01\\\\\n",
       "\t 3 & 0.02363889 & 4.192304e-01\\\\\n",
       "\t 4 & 0.12892191 & 4.988542e-01\\\\\n",
       "\t 5 & 0.13708265 & 5.507074e-01\\\\\n",
       "\\end{tabular}\n"
      ],
      "text/markdown": [
       "\n",
       "A data.frame: 6 × 3\n",
       "\n",
       "| Lag &lt;int&gt; | ADF_Test &lt;dbl&gt; | Ljung_Box_Residuals &lt;dbl&gt; |\n",
       "|---|---|---|\n",
       "| 0 | 0.01000000 | 2.360747e-07 |\n",
       "| 1 | 0.01000000 | 6.037942e-02 |\n",
       "| 2 | 0.01000000 | 1.989800e-01 |\n",
       "| 3 | 0.02363889 | 4.192304e-01 |\n",
       "| 4 | 0.12892191 | 4.988542e-01 |\n",
       "| 5 | 0.13708265 | 5.507074e-01 |\n",
       "\n"
      ],
      "text/plain": [
       "  Lag ADF_Test   Ljung_Box_Residuals\n",
       "1 0   0.01000000 2.360747e-07       \n",
       "2 1   0.01000000 6.037942e-02       \n",
       "3 2   0.01000000 1.989800e-01       \n",
       "4 3   0.02363889 4.192304e-01       \n",
       "5 4   0.12892191 4.988542e-01       \n",
       "6 5   0.13708265 5.507074e-01       "
      ]
     },
     "metadata": {},
     "output_type": "display_data"
    }
   ],
   "source": [
    "# Le test de Dickey-Fuller augmenté joint avec le test de Ljung Box(Pour l'autocorrelation des résidus)\n",
    "dickey_fuller <- function(x, ks = 0:24, type = \"ct\") {\n",
    "    adf_p_values <- c()\n",
    "    lb_p_values <- c()\n",
    "    for (k in ks) {\n",
    "        adf <- fUnitRoots::adfTest(x, lags = k, type = type)\n",
    "        adf_p_val <- adf@test$p.value\n",
    "        lb_p_val <- Box.test(adf@test$lm$residuals, 24)$p.value\n",
    "        adf_p_values <- c(adf_p_values, adf_p_val)\n",
    "        lb_p_values <- c(lb_p_values, lb_p_val)\n",
    "    }\n",
    "\n",
    "    df <- data.frame(\n",
    "        Lag = ks,\n",
    "        ADF_Test = adf_p_values,\n",
    "        Ljung_Box_Residuals = lb_p_values\n",
    "    )\n",
    "\n",
    "    return(df)\n",
    "}\n",
    "\n",
    "dickey_fuller(serie, type = \"ct\", ks = 0:5)"
   ]
  },
  {
   "cell_type": "markdown",
   "metadata": {},
   "source": [
    "Le test ADF rejette la racine unitaire pour les lags<5, mais il n'est pas forcément vrai\n",
    "car on n'a pas vérifier la validité des résidus qui vérifié par le test de Ljung Box.\n",
    "Finalement à partir des lags 5 ADF ne rejette pas l'hypothèse de racine unité  et cela est valide avec le test de Ljung Box\n",
    "(On a du ajouter $5$ retards pour obtenir des résidus non autocorrélés.)\n"
   ]
  },
  {
   "cell_type": "markdown",
   "metadata": {},
   "source": [
    "### Philipps-Perron"
   ]
  },
  {
   "cell_type": "code",
   "execution_count": 38,
   "metadata": {
    "vscode": {
     "languageId": "r"
    }
   },
   "outputs": [
    {
     "data": {
      "text/plain": [
       "\n",
       "\tPhillips-Perron Unit Root Test\n",
       "\n",
       "data:  serie\n",
       "Dickey-Fuller Z(alpha) = -105.51, Truncation lag parameter = 5, p-value\n",
       "= 0.01\n",
       "alternative hypothesis: stationary\n"
      ]
     },
     "metadata": {},
     "output_type": "display_data"
    }
   ],
   "source": [
    "\n",
    "tseries::pp.test(serie)"
   ]
  },
  {
   "cell_type": "markdown",
   "metadata": {},
   "source": [
    "Phillips-Perron rejette l'hypothèse de racine unité."
   ]
  },
  {
   "cell_type": "markdown",
   "metadata": {},
   "source": [
    "### KPSS"
   ]
  },
  {
   "cell_type": "code",
   "execution_count": 39,
   "metadata": {
    "vscode": {
     "languageId": "r"
    }
   },
   "outputs": [
    {
     "data": {
      "text/plain": [
       "\n",
       "\tKPSS Test for Level Stationarity\n",
       "\n",
       "data:  serie\n",
       "KPSS Level = 3.953, Truncation lag parameter = 5, p-value = 0.01\n"
      ]
     },
     "metadata": {},
     "output_type": "display_data"
    }
   ],
   "source": [
    "tseries::kpss.test(serie)"
   ]
  },
  {
   "cell_type": "markdown",
   "metadata": {},
   "source": [
    "KPSS rejette la stationnarité."
   ]
  },
  {
   "cell_type": "markdown",
   "metadata": {},
   "source": [
    "# Conclusiuon sur la stationnarité de la série brute.\n",
    "Deux de nos test conclurent sur la non stationnarité de la serie étudié. et donc nous considérons que notre serie\n",
    "est non statitionaire par la suite, ce qui confirme l'obssrvation visuelle."
   ]
  },
  {
   "cell_type": "markdown",
   "metadata": {},
   "source": [
    "# Question 2 - Stationnarisation"
   ]
  },
  {
   "cell_type": "code",
   "execution_count": 31,
   "metadata": {},
   "outputs": [
    {
     "data": {
      "text/html": [
       "<table class=\"dataframe\">\n",
       "<caption>A Time Series: 29 × 12</caption>\n",
       "<thead>\n",
       "\t<tr><th></th><th scope=col>Jan</th><th scope=col>Feb</th><th scope=col>Mar</th><th scope=col>Apr</th><th scope=col>May</th><th scope=col>Jun</th><th scope=col>Jul</th><th scope=col>Aug</th><th scope=col>Sep</th><th scope=col>Oct</th><th scope=col>Nov</th><th scope=col>Dec</th></tr>\n",
       "</thead>\n",
       "<tbody>\n",
       "\t<tr><th scope=row>1990</th><td>     </td><td> 5.86</td><td> 0.43</td><td> 1.38</td><td> 2.44</td><td>-4.08</td><td> 0.91</td><td> 0.07</td><td>-1.69</td><td> 1.29</td><td>-0.75</td><td> 2.25</td></tr>\n",
       "\t<tr><th scope=row>1991</th><td> 2.80</td><td> 0.15</td><td>-0.90</td><td> 0.38</td><td>-1.64</td><td>-0.82</td><td> 0.61</td><td> 0.31</td><td>-0.78</td><td> 0.30</td><td> 0.56</td><td>-0.78</td></tr>\n",
       "\t<tr><th scope=row>1992</th><td> 0.72</td><td> 0.39</td><td> 0.27</td><td> 0.98</td><td>-1.05</td><td> 0.29</td><td>-0.73</td><td>-2.62</td><td> 1.54</td><td>-1.01</td><td> 0.98</td><td> 0.40</td></tr>\n",
       "\t<tr><th scope=row>1993</th><td>-2.19</td><td> 1.46</td><td>-0.77</td><td>-0.23</td><td>-1.99</td><td> 1.77</td><td> 0.17</td><td> 0.70</td><td> 2.33</td><td>-2.07</td><td>-0.57</td><td>-1.63</td></tr>\n",
       "\t<tr><th scope=row>1994</th><td> 1.09</td><td>-0.62</td><td>-0.25</td><td>-0.21</td><td> 0.50</td><td> 0.63</td><td> 2.06</td><td> 5.69</td><td>-6.73</td><td> 0.06</td><td> 1.62</td><td>-0.23</td></tr>\n",
       "\t<tr><th scope=row>1995</th><td>-0.01</td><td>-0.08</td><td>-1.07</td><td> 1.30</td><td> 1.26</td><td> 1.00</td><td>-3.44</td><td> 2.19</td><td> 0.39</td><td> 0.30</td><td>-0.97</td><td>-0.40</td></tr>\n",
       "\t<tr><th scope=row>1996</th><td> 1.02</td><td> 1.13</td><td>-1.29</td><td> 0.14</td><td> 3.33</td><td>-3.34</td><td> 1.66</td><td> 0.08</td><td> 0.01</td><td> 0.15</td><td>-1.27</td><td> 2.55</td></tr>\n",
       "\t<tr><th scope=row>1997</th><td>-1.80</td><td> 0.55</td><td>-0.44</td><td> 3.37</td><td>-1.29</td><td>-0.52</td><td>-1.92</td><td> 2.75</td><td> 1.00</td><td> 1.44</td><td>-0.93</td><td> 2.51</td></tr>\n",
       "\t<tr><th scope=row>1998</th><td>-0.79</td><td>-1.37</td><td>-0.11</td><td>-1.55</td><td>-0.62</td><td>-0.09</td><td> 2.48</td><td>-3.33</td><td> 0.07</td><td> 0.69</td><td>-2.24</td><td> 1.63</td></tr>\n",
       "\t<tr><th scope=row>1999</th><td> 1.60</td><td>-1.29</td><td> 1.13</td><td>-2.21</td><td> 0.42</td><td> 1.51</td><td> 0.47</td><td>-2.34</td><td> 3.09</td><td> 1.42</td><td> 0.02</td><td>-5.67</td></tr>\n",
       "\t<tr><th scope=row>2000</th><td>-0.61</td><td> 1.21</td><td> 0.73</td><td> 1.32</td><td>-0.02</td><td>-1.69</td><td> 2.50</td><td> 0.29</td><td>-1.49</td><td>-0.08</td><td>-1.14</td><td> 1.79</td></tr>\n",
       "\t<tr><th scope=row>2001</th><td>-3.56</td><td> 1.92</td><td>-1.50</td><td> 4.75</td><td> 0.29</td><td>-1.47</td><td>-0.66</td><td> 1.33</td><td> 0.11</td><td> 0.71</td><td>-1.69</td><td> 1.92</td></tr>\n",
       "\t<tr><th scope=row>2002</th><td>-0.17</td><td> 0.88</td><td> 0.65</td><td>-2.57</td><td> 1.58</td><td>-2.46</td><td>-0.28</td><td> 3.76</td><td>-2.71</td><td> 0.19</td><td> 0.41</td><td>-0.55</td></tr>\n",
       "\t<tr><th scope=row>2003</th><td>-0.45</td><td>-0.41</td><td> 0.52</td><td> 0.92</td><td>-1.53</td><td> 0.72</td><td>-0.43</td><td>-2.90</td><td> 3.45</td><td>-1.31</td><td>-0.44</td><td> 1.58</td></tr>\n",
       "\t<tr><th scope=row>2004</th><td> 0.47</td><td>-1.30</td><td> 0.31</td><td>-1.12</td><td>-1.24</td><td> 2.17</td><td> 1.01</td><td>-2.63</td><td> 1.23</td><td>-0.26</td><td> 0.85</td><td>-2.03</td></tr>\n",
       "\t<tr><th scope=row>2005</th><td> 0.74</td><td>-0.80</td><td>-0.36</td><td>-0.02</td><td> 0.21</td><td>-0.17</td><td>-0.69</td><td> 2.23</td><td>-0.18</td><td>-0.22</td><td> 1.02</td><td>-1.34</td></tr>\n",
       "\t<tr><th scope=row>2006</th><td>-1.62</td><td> 0.35</td><td> 1.60</td><td>-0.32</td><td> 0.71</td><td>-1.86</td><td> 2.35</td><td>-0.34</td><td>-0.84</td><td> 0.95</td><td>-0.42</td><td> 0.86</td></tr>\n",
       "\t<tr><th scope=row>2007</th><td>-0.22</td><td>-0.10</td><td> 0.17</td><td> 1.91</td><td>-0.76</td><td>-0.22</td><td>-0.73</td><td> 2.55</td><td>-3.03</td><td> 2.57</td><td>-0.66</td><td> 0.92</td></tr>\n",
       "\t<tr><th scope=row>2008</th><td>-1.14</td><td>-0.15</td><td>-0.50</td><td> 0.67</td><td>-2.28</td><td>-0.77</td><td> 2.06</td><td>-1.05</td><td> 0.97</td><td>-0.47</td><td>-2.53</td><td> 4.26</td></tr>\n",
       "\t<tr><th scope=row>2009</th><td>-2.74</td><td> 1.19</td><td>-0.28</td><td>-0.55</td><td> 1.92</td><td>-0.15</td><td>-0.18</td><td>-1.57</td><td> 0.77</td><td>-1.57</td><td> 1.74</td><td>-1.58</td></tr>\n",
       "\t<tr><th scope=row>2010</th><td> 2.39</td><td>-0.60</td><td> 0.55</td><td>-1.76</td><td> 1.80</td><td>-0.89</td><td> 1.24</td><td>-1.57</td><td> 1.36</td><td> 0.19</td><td>-0.02</td><td>-1.97</td></tr>\n",
       "\t<tr><th scope=row>2011</th><td> 4.18</td><td>-0.30</td><td> 1.30</td><td>-1.94</td><td>-0.16</td><td> 2.55</td><td> 1.11</td><td>-2.75</td><td> 0.55</td><td>-0.08</td><td> 0.33</td><td>-2.50</td></tr>\n",
       "\t<tr><th scope=row>2012</th><td> 0.65</td><td> 0.54</td><td> 0.42</td><td> 0.40</td><td> 0.38</td><td>-0.22</td><td>-0.73</td><td> 0.21</td><td>-0.35</td><td> 1.20</td><td>-1.12</td><td> 0.51</td></tr>\n",
       "\t<tr><th scope=row>2013</th><td>-1.27</td><td> 0.41</td><td>-0.40</td><td> 0.50</td><td> 1.77</td><td>-6.22</td><td> 2.03</td><td> 1.28</td><td>-0.51</td><td> 0.67</td><td> 1.28</td><td> 0.15</td></tr>\n",
       "\t<tr><th scope=row>2014</th><td>-1.24</td><td> 0.69</td><td>-2.41</td><td> 3.13</td><td>-1.92</td><td> 0.35</td><td> 0.41</td><td>-0.35</td><td> 0.66</td><td>-1.32</td><td>-1.32</td><td> 1.53</td></tr>\n",
       "\t<tr><th scope=row>2015</th><td>-0.26</td><td>-0.26</td><td> 1.23</td><td> 0.14</td><td> 0.18</td><td> 1.07</td><td>-0.80</td><td>-0.07</td><td> 0.41</td><td> 0.38</td><td>-1.00</td><td>-0.26</td></tr>\n",
       "\t<tr><th scope=row>2016</th><td> 0.91</td><td>-0.73</td><td>-0.18</td><td>-1.41</td><td> 0.14</td><td>-0.03</td><td> 1.14</td><td> 0.25</td><td>-0.10</td><td>-1.18</td><td> 1.17</td><td>-0.23</td></tr>\n",
       "\t<tr><th scope=row>2017</th><td>-0.86</td><td> 0.70</td><td> 0.18</td><td>-1.01</td><td> 1.49</td><td>-1.46</td><td> 1.16</td><td> 0.78</td><td> 0.01</td><td>-0.75</td><td> 0.35</td><td>-0.23</td></tr>\n",
       "\t<tr><th scope=row>2018</th><td>-0.23</td><td>-0.46</td><td> 1.62</td><td>-0.35</td><td> 0.07</td><td>-1.20</td><td> 0.40</td><td> 0.08</td><td>-1.36</td><td> 0.79</td><td>-0.66</td><td> 1.49</td></tr>\n",
       "</tbody>\n",
       "</table>\n"
      ],
      "text/latex": [
       "A Time Series: 29 × 12\n",
       "\\begin{tabular}{r|llllllllllll}\n",
       "  & Jan & Feb & Mar & Apr & May & Jun & Jul & Aug & Sep & Oct & Nov & Dec\\\\\n",
       "\\hline\n",
       "\t1990 &       &  5.86 &  0.43 &  1.38 &  2.44 & -4.08 &  0.91 &  0.07 & -1.69 &  1.29 & -0.75 &  2.25\\\\\n",
       "\t1991 &  2.80 &  0.15 & -0.90 &  0.38 & -1.64 & -0.82 &  0.61 &  0.31 & -0.78 &  0.30 &  0.56 & -0.78\\\\\n",
       "\t1992 &  0.72 &  0.39 &  0.27 &  0.98 & -1.05 &  0.29 & -0.73 & -2.62 &  1.54 & -1.01 &  0.98 &  0.40\\\\\n",
       "\t1993 & -2.19 &  1.46 & -0.77 & -0.23 & -1.99 &  1.77 &  0.17 &  0.70 &  2.33 & -2.07 & -0.57 & -1.63\\\\\n",
       "\t1994 &  1.09 & -0.62 & -0.25 & -0.21 &  0.50 &  0.63 &  2.06 &  5.69 & -6.73 &  0.06 &  1.62 & -0.23\\\\\n",
       "\t1995 & -0.01 & -0.08 & -1.07 &  1.30 &  1.26 &  1.00 & -3.44 &  2.19 &  0.39 &  0.30 & -0.97 & -0.40\\\\\n",
       "\t1996 &  1.02 &  1.13 & -1.29 &  0.14 &  3.33 & -3.34 &  1.66 &  0.08 &  0.01 &  0.15 & -1.27 &  2.55\\\\\n",
       "\t1997 & -1.80 &  0.55 & -0.44 &  3.37 & -1.29 & -0.52 & -1.92 &  2.75 &  1.00 &  1.44 & -0.93 &  2.51\\\\\n",
       "\t1998 & -0.79 & -1.37 & -0.11 & -1.55 & -0.62 & -0.09 &  2.48 & -3.33 &  0.07 &  0.69 & -2.24 &  1.63\\\\\n",
       "\t1999 &  1.60 & -1.29 &  1.13 & -2.21 &  0.42 &  1.51 &  0.47 & -2.34 &  3.09 &  1.42 &  0.02 & -5.67\\\\\n",
       "\t2000 & -0.61 &  1.21 &  0.73 &  1.32 & -0.02 & -1.69 &  2.50 &  0.29 & -1.49 & -0.08 & -1.14 &  1.79\\\\\n",
       "\t2001 & -3.56 &  1.92 & -1.50 &  4.75 &  0.29 & -1.47 & -0.66 &  1.33 &  0.11 &  0.71 & -1.69 &  1.92\\\\\n",
       "\t2002 & -0.17 &  0.88 &  0.65 & -2.57 &  1.58 & -2.46 & -0.28 &  3.76 & -2.71 &  0.19 &  0.41 & -0.55\\\\\n",
       "\t2003 & -0.45 & -0.41 &  0.52 &  0.92 & -1.53 &  0.72 & -0.43 & -2.90 &  3.45 & -1.31 & -0.44 &  1.58\\\\\n",
       "\t2004 &  0.47 & -1.30 &  0.31 & -1.12 & -1.24 &  2.17 &  1.01 & -2.63 &  1.23 & -0.26 &  0.85 & -2.03\\\\\n",
       "\t2005 &  0.74 & -0.80 & -0.36 & -0.02 &  0.21 & -0.17 & -0.69 &  2.23 & -0.18 & -0.22 &  1.02 & -1.34\\\\\n",
       "\t2006 & -1.62 &  0.35 &  1.60 & -0.32 &  0.71 & -1.86 &  2.35 & -0.34 & -0.84 &  0.95 & -0.42 &  0.86\\\\\n",
       "\t2007 & -0.22 & -0.10 &  0.17 &  1.91 & -0.76 & -0.22 & -0.73 &  2.55 & -3.03 &  2.57 & -0.66 &  0.92\\\\\n",
       "\t2008 & -1.14 & -0.15 & -0.50 &  0.67 & -2.28 & -0.77 &  2.06 & -1.05 &  0.97 & -0.47 & -2.53 &  4.26\\\\\n",
       "\t2009 & -2.74 &  1.19 & -0.28 & -0.55 &  1.92 & -0.15 & -0.18 & -1.57 &  0.77 & -1.57 &  1.74 & -1.58\\\\\n",
       "\t2010 &  2.39 & -0.60 &  0.55 & -1.76 &  1.80 & -0.89 &  1.24 & -1.57 &  1.36 &  0.19 & -0.02 & -1.97\\\\\n",
       "\t2011 &  4.18 & -0.30 &  1.30 & -1.94 & -0.16 &  2.55 &  1.11 & -2.75 &  0.55 & -0.08 &  0.33 & -2.50\\\\\n",
       "\t2012 &  0.65 &  0.54 &  0.42 &  0.40 &  0.38 & -0.22 & -0.73 &  0.21 & -0.35 &  1.20 & -1.12 &  0.51\\\\\n",
       "\t2013 & -1.27 &  0.41 & -0.40 &  0.50 &  1.77 & -6.22 &  2.03 &  1.28 & -0.51 &  0.67 &  1.28 &  0.15\\\\\n",
       "\t2014 & -1.24 &  0.69 & -2.41 &  3.13 & -1.92 &  0.35 &  0.41 & -0.35 &  0.66 & -1.32 & -1.32 &  1.53\\\\\n",
       "\t2015 & -0.26 & -0.26 &  1.23 &  0.14 &  0.18 &  1.07 & -0.80 & -0.07 &  0.41 &  0.38 & -1.00 & -0.26\\\\\n",
       "\t2016 &  0.91 & -0.73 & -0.18 & -1.41 &  0.14 & -0.03 &  1.14 &  0.25 & -0.10 & -1.18 &  1.17 & -0.23\\\\\n",
       "\t2017 & -0.86 &  0.70 &  0.18 & -1.01 &  1.49 & -1.46 &  1.16 &  0.78 &  0.01 & -0.75 &  0.35 & -0.23\\\\\n",
       "\t2018 & -0.23 & -0.46 &  1.62 & -0.35 &  0.07 & -1.20 &  0.40 &  0.08 & -1.36 &  0.79 & -0.66 &  1.49\\\\\n",
       "\\end{tabular}\n"
      ],
      "text/markdown": [
       "\n",
       "A Time Series: 29 × 12\n",
       "\n",
       "| <!--/--> | Jan | Feb | Mar | Apr | May | Jun | Jul | Aug | Sep | Oct | Nov | Dec |\n",
       "|---|---|---|---|---|---|---|---|---|---|---|---|---|\n",
       "| 1990 | <!----> |  5.86 |  0.43 |  1.38 |  2.44 | -4.08 |  0.91 |  0.07 | -1.69 |  1.29 | -0.75 |  2.25 |\n",
       "| 1991 |  2.80 |  0.15 | -0.90 |  0.38 | -1.64 | -0.82 |  0.61 |  0.31 | -0.78 |  0.30 |  0.56 | -0.78 |\n",
       "| 1992 |  0.72 |  0.39 |  0.27 |  0.98 | -1.05 |  0.29 | -0.73 | -2.62 |  1.54 | -1.01 |  0.98 |  0.40 |\n",
       "| 1993 | -2.19 |  1.46 | -0.77 | -0.23 | -1.99 |  1.77 |  0.17 |  0.70 |  2.33 | -2.07 | -0.57 | -1.63 |\n",
       "| 1994 |  1.09 | -0.62 | -0.25 | -0.21 |  0.50 |  0.63 |  2.06 |  5.69 | -6.73 |  0.06 |  1.62 | -0.23 |\n",
       "| 1995 | -0.01 | -0.08 | -1.07 |  1.30 |  1.26 |  1.00 | -3.44 |  2.19 |  0.39 |  0.30 | -0.97 | -0.40 |\n",
       "| 1996 |  1.02 |  1.13 | -1.29 |  0.14 |  3.33 | -3.34 |  1.66 |  0.08 |  0.01 |  0.15 | -1.27 |  2.55 |\n",
       "| 1997 | -1.80 |  0.55 | -0.44 |  3.37 | -1.29 | -0.52 | -1.92 |  2.75 |  1.00 |  1.44 | -0.93 |  2.51 |\n",
       "| 1998 | -0.79 | -1.37 | -0.11 | -1.55 | -0.62 | -0.09 |  2.48 | -3.33 |  0.07 |  0.69 | -2.24 |  1.63 |\n",
       "| 1999 |  1.60 | -1.29 |  1.13 | -2.21 |  0.42 |  1.51 |  0.47 | -2.34 |  3.09 |  1.42 |  0.02 | -5.67 |\n",
       "| 2000 | -0.61 |  1.21 |  0.73 |  1.32 | -0.02 | -1.69 |  2.50 |  0.29 | -1.49 | -0.08 | -1.14 |  1.79 |\n",
       "| 2001 | -3.56 |  1.92 | -1.50 |  4.75 |  0.29 | -1.47 | -0.66 |  1.33 |  0.11 |  0.71 | -1.69 |  1.92 |\n",
       "| 2002 | -0.17 |  0.88 |  0.65 | -2.57 |  1.58 | -2.46 | -0.28 |  3.76 | -2.71 |  0.19 |  0.41 | -0.55 |\n",
       "| 2003 | -0.45 | -0.41 |  0.52 |  0.92 | -1.53 |  0.72 | -0.43 | -2.90 |  3.45 | -1.31 | -0.44 |  1.58 |\n",
       "| 2004 |  0.47 | -1.30 |  0.31 | -1.12 | -1.24 |  2.17 |  1.01 | -2.63 |  1.23 | -0.26 |  0.85 | -2.03 |\n",
       "| 2005 |  0.74 | -0.80 | -0.36 | -0.02 |  0.21 | -0.17 | -0.69 |  2.23 | -0.18 | -0.22 |  1.02 | -1.34 |\n",
       "| 2006 | -1.62 |  0.35 |  1.60 | -0.32 |  0.71 | -1.86 |  2.35 | -0.34 | -0.84 |  0.95 | -0.42 |  0.86 |\n",
       "| 2007 | -0.22 | -0.10 |  0.17 |  1.91 | -0.76 | -0.22 | -0.73 |  2.55 | -3.03 |  2.57 | -0.66 |  0.92 |\n",
       "| 2008 | -1.14 | -0.15 | -0.50 |  0.67 | -2.28 | -0.77 |  2.06 | -1.05 |  0.97 | -0.47 | -2.53 |  4.26 |\n",
       "| 2009 | -2.74 |  1.19 | -0.28 | -0.55 |  1.92 | -0.15 | -0.18 | -1.57 |  0.77 | -1.57 |  1.74 | -1.58 |\n",
       "| 2010 |  2.39 | -0.60 |  0.55 | -1.76 |  1.80 | -0.89 |  1.24 | -1.57 |  1.36 |  0.19 | -0.02 | -1.97 |\n",
       "| 2011 |  4.18 | -0.30 |  1.30 | -1.94 | -0.16 |  2.55 |  1.11 | -2.75 |  0.55 | -0.08 |  0.33 | -2.50 |\n",
       "| 2012 |  0.65 |  0.54 |  0.42 |  0.40 |  0.38 | -0.22 | -0.73 |  0.21 | -0.35 |  1.20 | -1.12 |  0.51 |\n",
       "| 2013 | -1.27 |  0.41 | -0.40 |  0.50 |  1.77 | -6.22 |  2.03 |  1.28 | -0.51 |  0.67 |  1.28 |  0.15 |\n",
       "| 2014 | -1.24 |  0.69 | -2.41 |  3.13 | -1.92 |  0.35 |  0.41 | -0.35 |  0.66 | -1.32 | -1.32 |  1.53 |\n",
       "| 2015 | -0.26 | -0.26 |  1.23 |  0.14 |  0.18 |  1.07 | -0.80 | -0.07 |  0.41 |  0.38 | -1.00 | -0.26 |\n",
       "| 2016 |  0.91 | -0.73 | -0.18 | -1.41 |  0.14 | -0.03 |  1.14 |  0.25 | -0.10 | -1.18 |  1.17 | -0.23 |\n",
       "| 2017 | -0.86 |  0.70 |  0.18 | -1.01 |  1.49 | -1.46 |  1.16 |  0.78 |  0.01 | -0.75 |  0.35 | -0.23 |\n",
       "| 2018 | -0.23 | -0.46 |  1.62 | -0.35 |  0.07 | -1.20 |  0.40 |  0.08 | -1.36 |  0.79 | -0.66 |  1.49 |\n",
       "\n"
      ],
      "text/plain": [
       "     Jan   Feb   Mar   Apr   May   Jun   Jul   Aug   Sep   Oct   Nov   Dec  \n",
       "1990        5.86  0.43  1.38  2.44 -4.08  0.91  0.07 -1.69  1.29 -0.75  2.25\n",
       "1991  2.80  0.15 -0.90  0.38 -1.64 -0.82  0.61  0.31 -0.78  0.30  0.56 -0.78\n",
       "1992  0.72  0.39  0.27  0.98 -1.05  0.29 -0.73 -2.62  1.54 -1.01  0.98  0.40\n",
       "1993 -2.19  1.46 -0.77 -0.23 -1.99  1.77  0.17  0.70  2.33 -2.07 -0.57 -1.63\n",
       "1994  1.09 -0.62 -0.25 -0.21  0.50  0.63  2.06  5.69 -6.73  0.06  1.62 -0.23\n",
       "1995 -0.01 -0.08 -1.07  1.30  1.26  1.00 -3.44  2.19  0.39  0.30 -0.97 -0.40\n",
       "1996  1.02  1.13 -1.29  0.14  3.33 -3.34  1.66  0.08  0.01  0.15 -1.27  2.55\n",
       "1997 -1.80  0.55 -0.44  3.37 -1.29 -0.52 -1.92  2.75  1.00  1.44 -0.93  2.51\n",
       "1998 -0.79 -1.37 -0.11 -1.55 -0.62 -0.09  2.48 -3.33  0.07  0.69 -2.24  1.63\n",
       "1999  1.60 -1.29  1.13 -2.21  0.42  1.51  0.47 -2.34  3.09  1.42  0.02 -5.67\n",
       "2000 -0.61  1.21  0.73  1.32 -0.02 -1.69  2.50  0.29 -1.49 -0.08 -1.14  1.79\n",
       "2001 -3.56  1.92 -1.50  4.75  0.29 -1.47 -0.66  1.33  0.11  0.71 -1.69  1.92\n",
       "2002 -0.17  0.88  0.65 -2.57  1.58 -2.46 -0.28  3.76 -2.71  0.19  0.41 -0.55\n",
       "2003 -0.45 -0.41  0.52  0.92 -1.53  0.72 -0.43 -2.90  3.45 -1.31 -0.44  1.58\n",
       "2004  0.47 -1.30  0.31 -1.12 -1.24  2.17  1.01 -2.63  1.23 -0.26  0.85 -2.03\n",
       "2005  0.74 -0.80 -0.36 -0.02  0.21 -0.17 -0.69  2.23 -0.18 -0.22  1.02 -1.34\n",
       "2006 -1.62  0.35  1.60 -0.32  0.71 -1.86  2.35 -0.34 -0.84  0.95 -0.42  0.86\n",
       "2007 -0.22 -0.10  0.17  1.91 -0.76 -0.22 -0.73  2.55 -3.03  2.57 -0.66  0.92\n",
       "2008 -1.14 -0.15 -0.50  0.67 -2.28 -0.77  2.06 -1.05  0.97 -0.47 -2.53  4.26\n",
       "2009 -2.74  1.19 -0.28 -0.55  1.92 -0.15 -0.18 -1.57  0.77 -1.57  1.74 -1.58\n",
       "2010  2.39 -0.60  0.55 -1.76  1.80 -0.89  1.24 -1.57  1.36  0.19 -0.02 -1.97\n",
       "2011  4.18 -0.30  1.30 -1.94 -0.16  2.55  1.11 -2.75  0.55 -0.08  0.33 -2.50\n",
       "2012  0.65  0.54  0.42  0.40  0.38 -0.22 -0.73  0.21 -0.35  1.20 -1.12  0.51\n",
       "2013 -1.27  0.41 -0.40  0.50  1.77 -6.22  2.03  1.28 -0.51  0.67  1.28  0.15\n",
       "2014 -1.24  0.69 -2.41  3.13 -1.92  0.35  0.41 -0.35  0.66 -1.32 -1.32  1.53\n",
       "2015 -0.26 -0.26  1.23  0.14  0.18  1.07 -0.80 -0.07  0.41  0.38 -1.00 -0.26\n",
       "2016  0.91 -0.73 -0.18 -1.41  0.14 -0.03  1.14  0.25 -0.10 -1.18  1.17 -0.23\n",
       "2017 -0.86  0.70  0.18 -1.01  1.49 -1.46  1.16  0.78  0.01 -0.75  0.35 -0.23\n",
       "2018 -0.23 -0.46  1.62 -0.35  0.07 -1.20  0.40  0.08 -1.36  0.79 -0.66  1.49"
      ]
     },
     "metadata": {},
     "output_type": "display_data"
    }
   ],
   "source": [
    "#Code pour différencier la série en vue de la rendre stationnaire.\n",
    "diff1 <- diff(serie, 1) # différence prmière de la série\n",
    "# Visualiser les données différenciées\n",
    "diff1"
   ]
  },
  {
   "cell_type": "code",
   "execution_count": 71,
   "metadata": {
    "vscode": {
     "languageId": "r"
    }
   },
   "outputs": [
    {
     "data": {
      "image/png": "[encoded data removed]",
      "text/plain": [
       "Plot with title \"Evolution de l'indice de la production alimentaire différenciée\""
      ]
     },
     "metadata": {
      "image/png": {
       "height": 420,
       "width": 1200
      }
     },
     "output_type": "display_data"
    }
   ],
   "source": [
    "# representation jointe de la serie différenciée et la serie brute\n",
    "par(mfrow=c(1,2))\n",
    "figsize(20, 7)\n",
    "plot(serie, ylab = \"Série \", main = \"Evolution de l'indice de la production alimentaire\",col=4, lwd=3)\n",
    "plot(diff1, ylab = \"Série différenciée\", main = \"Evolution de l'indice de la production alimentaire différenciée\",,col=1, lwd=3)"
   ]
  },
  {
   "cell_type": "markdown",
   "metadata": {},
   "source": [
    "Visuellement, la série différenciée semble stationnaire et de tendance nulle. Nous allons le vérifier avec de stationnarité utlisés précedamment"
   ]
  },
  {
   "cell_type": "markdown",
   "metadata": {},
   "source": [
    "### Test de Dickey-Fuller"
   ]
  },
  {
   "cell_type": "code",
   "execution_count": 42,
   "metadata": {
    "vscode": {
     "languageId": "r"
    }
   },
   "outputs": [
    {
     "data": {
      "text/html": [
       "<table class=\"dataframe\">\n",
       "<caption>A data.frame: 6 × 3</caption>\n",
       "<thead>\n",
       "\t<tr><th scope=col>Lag</th><th scope=col>ADF_Test</th><th scope=col>Ljung_Box_Residuals</th></tr>\n",
       "\t<tr><th scope=col>&lt;int&gt;</th><th scope=col>&lt;dbl&gt;</th><th scope=col>&lt;dbl&gt;</th></tr>\n",
       "</thead>\n",
       "<tbody>\n",
       "\t<tr><td>0</td><td>0.01</td><td>0.004473811</td></tr>\n",
       "\t<tr><td>1</td><td>0.01</td><td>0.034631520</td></tr>\n",
       "\t<tr><td>2</td><td>0.01</td><td>0.175848565</td></tr>\n",
       "\t<tr><td>3</td><td>0.01</td><td>0.273185946</td></tr>\n",
       "\t<tr><td>4</td><td>0.01</td><td>0.382182389</td></tr>\n",
       "\t<tr><td>5</td><td>0.01</td><td>0.426145072</td></tr>\n",
       "</tbody>\n",
       "</table>\n"
      ],
      "text/latex": [
       "A data.frame: 6 × 3\n",
       "\\begin{tabular}{lll}\n",
       " Lag & ADF\\_Test & Ljung\\_Box\\_Residuals\\\\\n",
       " <int> & <dbl> & <dbl>\\\\\n",
       "\\hline\n",
       "\t 0 & 0.01 & 0.004473811\\\\\n",
       "\t 1 & 0.01 & 0.034631520\\\\\n",
       "\t 2 & 0.01 & 0.175848565\\\\\n",
       "\t 3 & 0.01 & 0.273185946\\\\\n",
       "\t 4 & 0.01 & 0.382182389\\\\\n",
       "\t 5 & 0.01 & 0.426145072\\\\\n",
       "\\end{tabular}\n"
      ],
      "text/markdown": [
       "\n",
       "A data.frame: 6 × 3\n",
       "\n",
       "| Lag &lt;int&gt; | ADF_Test &lt;dbl&gt; | Ljung_Box_Residuals &lt;dbl&gt; |\n",
       "|---|---|---|\n",
       "| 0 | 0.01 | 0.004473811 |\n",
       "| 1 | 0.01 | 0.034631520 |\n",
       "| 2 | 0.01 | 0.175848565 |\n",
       "| 3 | 0.01 | 0.273185946 |\n",
       "| 4 | 0.01 | 0.382182389 |\n",
       "| 5 | 0.01 | 0.426145072 |\n",
       "\n"
      ],
      "text/plain": [
       "  Lag ADF_Test Ljung_Box_Residuals\n",
       "1 0   0.01     0.004473811        \n",
       "2 1   0.01     0.034631520        \n",
       "3 2   0.01     0.175848565        \n",
       "4 3   0.01     0.273185946        \n",
       "5 4   0.01     0.382182389        \n",
       "6 5   0.01     0.426145072        "
      ]
     },
     "metadata": {},
     "output_type": "display_data"
    }
   ],
   "source": [
    "dickey_fuller(diff1, type = \"nc\", ks = 0:5)"
   ]
  },
  {
   "cell_type": "markdown",
   "metadata": {},
   "source": [
    "Le test de Dickey-Fuller augmenté rejette donc l'hypothèse de racine unité."
   ]
  },
  {
   "cell_type": "markdown",
   "metadata": {},
   "source": [
    "### Test de Phillips-Perron"
   ]
  },
  {
   "cell_type": "code",
   "execution_count": 43,
   "metadata": {
    "vscode": {
     "languageId": "r"
    }
   },
   "outputs": [
    {
     "data": {
      "text/plain": [
       "\n",
       "\tPhillips-Perron Unit Root Test\n",
       "\n",
       "data:  diff1\n",
       "Dickey-Fuller Z(alpha) = -411.29, Truncation lag parameter = 5, p-value\n",
       "= 0.01\n",
       "alternative hypothesis: stationary\n"
      ]
     },
     "metadata": {},
     "output_type": "display_data"
    }
   ],
   "source": [
    "tseries::pp.test(diff1)"
   ]
  },
  {
   "cell_type": "markdown",
   "metadata": {},
   "source": [
    "Idem pour le test de Phillips-Perron"
   ]
  },
  {
   "cell_type": "markdown",
   "metadata": {},
   "source": [
    "### Test KPSS"
   ]
  },
  {
   "cell_type": "code",
   "execution_count": 44,
   "metadata": {
    "scrolled": true,
    "vscode": {
     "languageId": "r"
    }
   },
   "outputs": [
    {
     "data": {
      "text/plain": [
       "\n",
       "\tKPSS Test for Level Stationarity\n",
       "\n",
       "data:  diff1\n",
       "KPSS Level = 0.13215, Truncation lag parameter = 5, p-value = 0.1\n"
      ]
     },
     "metadata": {},
     "output_type": "display_data"
    }
   ],
   "source": [
    "tseries::kpss.test(diff1)"
   ]
  },
  {
   "cell_type": "markdown",
   "metadata": {},
   "source": [
    "Le test KPSS ne rejette pas l'hypothèse de stationnarité."
   ]
  },
  {
   "cell_type": "markdown",
   "metadata": {},
   "source": [
    "# Conclusiuon sur la stationnarité de la série différenciée.\n",
    "les trois test sont tous unaniment que la série différenciée est stationnaire."
   ]
  },
  {
   "cell_type": "markdown",
   "metadata": {},
   "source": [
    "# Question 4 - Modélisation ARMA"
   ]
  },
  {
   "cell_type": "code",
   "execution_count": 80,
   "metadata": {
    "vscode": {
     "languageId": "r"
    }
   },
   "outputs": [
    {
     "data": {
      "image/png": "[encoded data removed]",
      "text/plain": [
       "plot without title"
      ]
     },
     "metadata": {
      "image/png": {
       "height": 300,
       "width": 1200
      }
     },
     "output_type": "display_data"
    }
   ],
   "source": [
    "# Ces library sont necésaires\n",
    "library(ggplot2)\n",
    "library(patchwork)\n",
    "library(forecast)\n",
    "\n",
    "figsize(20, 5)\n",
    "# code pour visualiser l'Autocorrélation et et le corrélogramme partiel \n",
    "(ggAcf(diff1, lag.max = 12,lwd=2, col=1) + labs(title = \"ACF - Série différenciée\")\n",
    "     + ggPacf(diff1, lag.max = 12,lwd=2, col=4) + labs(title = \"PACF - Série différenciée\"));\n"
   ]
  },
  {
   "cell_type": "markdown",
   "metadata": {},
   "source": [
    "Les ACF sont significatives jusqu'à l'ordre 1, donc $q_{max}=1$.\n",
    "Les PACF sont significatives jusqu'à l'ordre 7, donc $p_{max}=7$\n"
   ]
  },
  {
   "cell_type": "markdown",
   "metadata": {},
   "source": [
    "### Choix du modèle :"
   ]
  },
  {
   "cell_type": "code",
   "execution_count": 46,
   "metadata": {
    "vscode": {
     "languageId": "r"
    }
   },
   "outputs": [
    {
     "data": {
      "text/html": [
       "<table class=\"dataframe\">\n",
       "<caption>A data.frame: 16 × 5</caption>\n",
       "<thead>\n",
       "\t<tr><th scope=col>p</th><th scope=col>d</th><th scope=col>q</th><th scope=col>AIC</th><th scope=col>BIC</th></tr>\n",
       "\t<tr><th scope=col>&lt;int&gt;</th><th scope=col>&lt;dbl&gt;</th><th scope=col>&lt;int&gt;</th><th scope=col>&lt;dbl&gt;</th><th scope=col>&lt;dbl&gt;</th></tr>\n",
       "</thead>\n",
       "<tbody>\n",
       "\t<tr><td>0</td><td>1</td><td>0</td><td>1307.176</td><td>1311.025</td></tr>\n",
       "\t<tr><td>1</td><td>1</td><td>0</td><td>1248.345</td><td>1256.044</td></tr>\n",
       "\t<tr><td>2</td><td>1</td><td>0</td><td>1236.941</td><td>1248.489</td></tr>\n",
       "\t<tr><td>3</td><td>1</td><td>0</td><td>1232.579</td><td>1247.976</td></tr>\n",
       "\t<tr><td>4</td><td>1</td><td>0</td><td>1229.643</td><td>1248.890</td></tr>\n",
       "\t<tr><td>5</td><td>1</td><td>0</td><td>1230.144</td><td>1253.240</td></tr>\n",
       "\t<tr><td>6</td><td>1</td><td>0</td><td>1231.582</td><td>1258.527</td></tr>\n",
       "\t<tr><td>7</td><td>1</td><td>0</td><td>1222.771</td><td>1253.566</td></tr>\n",
       "\t<tr><td>0</td><td>1</td><td>1</td><td>1221.340</td><td>1229.039</td></tr>\n",
       "\t<tr><td>1</td><td>1</td><td>1</td><td>1220.825</td><td>1232.373</td></tr>\n",
       "\t<tr><td>2</td><td>1</td><td>1</td><td>1221.757</td><td>1237.154</td></tr>\n",
       "\t<tr><td>3</td><td>1</td><td>1</td><td>1223.711</td><td>1242.958</td></tr>\n",
       "\t<tr><td>4</td><td>1</td><td>1</td><td>1225.452</td><td>1248.548</td></tr>\n",
       "\t<tr><td>5</td><td>1</td><td>1</td><td>1227.407</td><td>1254.352</td></tr>\n",
       "\t<tr><td>6</td><td>1</td><td>1</td><td>1228.441</td><td>1259.236</td></tr>\n",
       "\t<tr><td>7</td><td>1</td><td>1</td><td>1223.090</td><td>1257.734</td></tr>\n",
       "</tbody>\n",
       "</table>\n"
      ],
      "text/latex": [
       "A data.frame: 16 × 5\n",
       "\\begin{tabular}{lllll}\n",
       " p & d & q & AIC & BIC\\\\\n",
       " <int> & <dbl> & <int> & <dbl> & <dbl>\\\\\n",
       "\\hline\n",
       "\t 0 & 1 & 0 & 1307.176 & 1311.025\\\\\n",
       "\t 1 & 1 & 0 & 1248.345 & 1256.044\\\\\n",
       "\t 2 & 1 & 0 & 1236.941 & 1248.489\\\\\n",
       "\t 3 & 1 & 0 & 1232.579 & 1247.976\\\\\n",
       "\t 4 & 1 & 0 & 1229.643 & 1248.890\\\\\n",
       "\t 5 & 1 & 0 & 1230.144 & 1253.240\\\\\n",
       "\t 6 & 1 & 0 & 1231.582 & 1258.527\\\\\n",
       "\t 7 & 1 & 0 & 1222.771 & 1253.566\\\\\n",
       "\t 0 & 1 & 1 & 1221.340 & 1229.039\\\\\n",
       "\t 1 & 1 & 1 & 1220.825 & 1232.373\\\\\n",
       "\t 2 & 1 & 1 & 1221.757 & 1237.154\\\\\n",
       "\t 3 & 1 & 1 & 1223.711 & 1242.958\\\\\n",
       "\t 4 & 1 & 1 & 1225.452 & 1248.548\\\\\n",
       "\t 5 & 1 & 1 & 1227.407 & 1254.352\\\\\n",
       "\t 6 & 1 & 1 & 1228.441 & 1259.236\\\\\n",
       "\t 7 & 1 & 1 & 1223.090 & 1257.734\\\\\n",
       "\\end{tabular}\n"
      ],
      "text/markdown": [
       "\n",
       "A data.frame: 16 × 5\n",
       "\n",
       "| p &lt;int&gt; | d &lt;dbl&gt; | q &lt;int&gt; | AIC &lt;dbl&gt; | BIC &lt;dbl&gt; |\n",
       "|---|---|---|---|---|\n",
       "| 0 | 1 | 0 | 1307.176 | 1311.025 |\n",
       "| 1 | 1 | 0 | 1248.345 | 1256.044 |\n",
       "| 2 | 1 | 0 | 1236.941 | 1248.489 |\n",
       "| 3 | 1 | 0 | 1232.579 | 1247.976 |\n",
       "| 4 | 1 | 0 | 1229.643 | 1248.890 |\n",
       "| 5 | 1 | 0 | 1230.144 | 1253.240 |\n",
       "| 6 | 1 | 0 | 1231.582 | 1258.527 |\n",
       "| 7 | 1 | 0 | 1222.771 | 1253.566 |\n",
       "| 0 | 1 | 1 | 1221.340 | 1229.039 |\n",
       "| 1 | 1 | 1 | 1220.825 | 1232.373 |\n",
       "| 2 | 1 | 1 | 1221.757 | 1237.154 |\n",
       "| 3 | 1 | 1 | 1223.711 | 1242.958 |\n",
       "| 4 | 1 | 1 | 1225.452 | 1248.548 |\n",
       "| 5 | 1 | 1 | 1227.407 | 1254.352 |\n",
       "| 6 | 1 | 1 | 1228.441 | 1259.236 |\n",
       "| 7 | 1 | 1 | 1223.090 | 1257.734 |\n",
       "\n"
      ],
      "text/plain": [
       "   p d q AIC      BIC     \n",
       "1  0 1 0 1307.176 1311.025\n",
       "2  1 1 0 1248.345 1256.044\n",
       "3  2 1 0 1236.941 1248.489\n",
       "4  3 1 0 1232.579 1247.976\n",
       "5  4 1 0 1229.643 1248.890\n",
       "6  5 1 0 1230.144 1253.240\n",
       "7  6 1 0 1231.582 1258.527\n",
       "8  7 1 0 1222.771 1253.566\n",
       "9  0 1 1 1221.340 1229.039\n",
       "10 1 1 1 1220.825 1232.373\n",
       "11 2 1 1 1221.757 1237.154\n",
       "12 3 1 1 1223.711 1242.958\n",
       "13 4 1 1 1225.452 1248.548\n",
       "14 5 1 1 1227.407 1254.352\n",
       "15 6 1 1 1228.441 1259.236\n",
       "16 7 1 1 1223.090 1257.734"
      ]
     },
     "metadata": {},
     "output_type": "display_data"
    }
   ],
   "source": [
    "# ce code permet de creer un fonction pour sortir les valeurs du AIC et BIC selon les ordres p,q et d du modèle ARIMA\n",
    "evaluate_models_ic <- function(pmax, d, qmax, x = serie) {\n",
    "  ps <- c()\n",
    "  ds <- c()\n",
    "  qs <- c()\n",
    "  aics <- c()\n",
    "  bics <- c()\n",
    "  for (q in 0:qmax) {\n",
    "    for (p in 0:pmax) {\n",
    "      ps <- c(ps, p)\n",
    "      ds <- c(ds, d)\n",
    "      qs <- c(qs, q)\n",
    "      model <- forecast::Arima(x, order = c(p, d, q))\n",
    "      aics <- c(aics, AIC(model))\n",
    "      bics <- c(bics, BIC(model))\n",
    "    }\n",
    "  }\n",
    "\n",
    "  df <- data.frame(\n",
    "        p = ps,\n",
    "        d = ds,\n",
    "        q = qs,\n",
    "        AIC = aics,\n",
    "        BIC = bics\n",
    "    )\n",
    "\n",
    "    return(df)\n",
    "}\n",
    "\n",
    "# on visualise les resultats en fonction de p, q et d\n",
    "tab <- evaluate_models_ic(pmax = 7, d = 1, qmax = 1)\n",
    "tab"
   ]
  },
  {
   "cell_type": "markdown",
   "metadata": {},
   "source": [
    "### L'AIC est minimisé en par l'ARIMA(1,1,1) et le BIC par l'ARIMA(0,1,1)"
   ]
  },
  {
   "cell_type": "code",
   "execution_count": 34,
   "metadata": {
    "vscode": {
     "languageId": "r"
    }
   },
   "outputs": [
    {
     "ename": "ERROR",
     "evalue": "Error in h(simpleError(msg, call)): erreur d'ï¿½valuation de l'argument 'x' lors de la sï¿½lection d'une mï¿½thode pour la fonction 't' : objet 'tab' introuvable\n",
     "output_type": "error",
     "traceback": [
      "Error in h(simpleError(msg, call)): erreur d'ï¿½valuation de l'argument 'x' lors de la sï¿½lection d'une mï¿½thode pour la fonction 't' : objet 'tab' introuvable\nTraceback:\n",
      "1. knitr::kable(t(sapply(tab, as.integer)), \"latex\")",
      "2. t(sapply(tab, as.integer))",
      "3. sapply(tab, as.integer)",
      "4. lapply(X = X, FUN = FUN, ...)",
      "5. .handleSimpleError(function (cond) \n . .Internal(C_tryCatchHelper(addr, 1L, cond)), \"objet 'tab' introuvable\", \n .     base::quote(lapply(X = X, FUN = FUN, ...)))",
      "6. h(simpleError(msg, call))"
     ]
    }
   ],
   "source": [
    "knitr::kable(t(sapply(tab, as.integer)), \"latex\")"
   ]
  },
  {
   "cell_type": "code",
   "execution_count": null,
   "metadata": {},
   "outputs": [],
   "source": []
  },
  {
   "cell_type": "code",
   "execution_count": 36,
   "metadata": {
    "vscode": {
     "languageId": "r"
    }
   },
   "outputs": [
    {
     "name": "stdout",
     "output_type": "stream",
     "text": [
      "initial  value 0.461276 \n",
      "iter   2 value 0.357486\n",
      "iter   3 value 0.349305\n",
      "iter   4 value 0.347940\n",
      "iter   5 value 0.347863\n",
      "iter   6 value 0.347862\n",
      "iter   7 value 0.347862\n",
      "iter   8 value 0.347862\n",
      "iter   8 value 0.347862\n",
      "iter   8 value 0.347862\n",
      "final  value 0.347862 \n",
      "converged\n",
      "initial  value 0.336129 \n",
      "iter   2 value 0.333289\n",
      "iter   3 value 0.333246\n",
      "iter   4 value 0.333241\n",
      "iter   5 value 0.333237\n",
      "iter   6 value 0.333237\n",
      "iter   6 value 0.333237\n",
      "final  value 0.333237 \n",
      "converged\n",
      "initial  value 0.442982 \n",
      "iter   2 value 0.363529\n",
      "iter   3 value 0.324917\n",
      "iter   4 value 0.318414\n",
      "iter   5 value 0.307949\n",
      "iter   6 value 0.294930\n",
      "iter   7 value 0.294804\n",
      "iter   8 value 0.294766\n",
      "iter   9 value 0.294757\n",
      "iter  10 value 0.294757\n",
      "iter  11 value 0.294757\n",
      "iter  12 value 0.294757\n",
      "iter  12 value 0.294757\n",
      "iter  12 value 0.294757\n",
      "final  value 0.294757 \n",
      "converged\n",
      "initial  value 0.329409 \n",
      "iter   2 value 0.329187\n",
      "iter   3 value 0.329161\n",
      "iter   4 value 0.329135\n",
      "iter   5 value 0.329127\n",
      "iter   6 value 0.329124\n",
      "iter   7 value 0.329123\n",
      "iter   8 value 0.329123\n",
      "iter   8 value 0.329123\n",
      "final  value 0.329123 \n",
      "converged\n"
     ]
    },
    {
     "data": {
      "image/png": "[encoded data removed]",
      "text/plain": [
       "Plot with title \"p values for Ljung-Box statistic\""
      ]
     },
     "metadata": {
      "image/png": {
       "height": 420,
       "width": 600
      }
     },
     "output_type": "display_data"
    },
    {
     "data": {
      "image/png": "[encoded data removed]",
      "text/plain": [
       "Plot with title \"p values for Ljung-Box statistic\""
      ]
     },
     "metadata": {
      "image/png": {
       "height": 420,
       "width": 600
      }
     },
     "output_type": "display_data"
    }
   ],
   "source": [
    "# test de validation des résidus:\n",
    "\n",
    "figsize(10, 7)\n",
    "res01 <- astsa::sarima(serie, 0, 1, 1)\n",
    "res11 <- astsa::sarima(serie, 1, 1, 1)"
   ]
  },
  {
   "cell_type": "markdown",
   "metadata": {},
   "source": [
    "Pour les modèles ARIMA(0,1,1) et ARIMA(1,1,1), les tests de Ljung-Box et les auto-corrélogrammes semblent indiquer que les résidus sont des bruits blancs. <br>Pour trancher entre ces deux modèles, regardons si l'ARIMA(1,1,1) peut être simplifié :"
   ]
  },
  {
   "cell_type": "code",
   "execution_count": 49,
   "metadata": {
    "vscode": {
     "languageId": "r"
    }
   },
   "outputs": [
    {
     "data": {
      "text/html": [
       "<table class=\"dataframe\">\n",
       "<caption>A matrix: 2 × 4 of type dbl</caption>\n",
       "<thead>\n",
       "\t<tr><th></th><th scope=col>Estimate</th><th scope=col>SE</th><th scope=col>t.value</th><th scope=col>p.value</th></tr>\n",
       "</thead>\n",
       "<tbody>\n",
       "\t<tr><th scope=row>ma1</th><td>-0.6138</td><td>0.0526</td><td>-11.6771</td><td>0.000</td></tr>\n",
       "\t<tr><th scope=row>constant</th><td> 0.0337</td><td>0.0291</td><td>  1.1597</td><td>0.247</td></tr>\n",
       "</tbody>\n",
       "</table>\n"
      ],
      "text/latex": [
       "A matrix: 2 × 4 of type dbl\n",
       "\\begin{tabular}{r|llll}\n",
       "  & Estimate & SE & t.value & p.value\\\\\n",
       "\\hline\n",
       "\tma1 & -0.6138 & 0.0526 & -11.6771 & 0.000\\\\\n",
       "\tconstant &  0.0337 & 0.0291 &   1.1597 & 0.247\\\\\n",
       "\\end{tabular}\n"
      ],
      "text/markdown": [
       "\n",
       "A matrix: 2 × 4 of type dbl\n",
       "\n",
       "| <!--/--> | Estimate | SE | t.value | p.value |\n",
       "|---|---|---|---|---|\n",
       "| ma1 | -0.6138 | 0.0526 | -11.6771 | 0.000 |\n",
       "| constant |  0.0337 | 0.0291 |   1.1597 | 0.247 |\n",
       "\n"
      ],
      "text/plain": [
       "         Estimate SE     t.value  p.value\n",
       "ma1      -0.6138  0.0526 -11.6771 0.000  \n",
       "constant  0.0337  0.0291   1.1597 0.247  "
      ]
     },
     "metadata": {},
     "output_type": "display_data"
    }
   ],
   "source": [
    "# estimation du modèle (MA1)\n",
    "res01$ttable"
   ]
  },
  {
   "cell_type": "code",
   "execution_count": 50,
   "metadata": {
    "vscode": {
     "languageId": "r"
    }
   },
   "outputs": [
    {
     "data": {
      "text/plain": [
       "\n",
       "\\begin{tabular}{l|r|r|r|r}\n",
       "\\hline\n",
       "  & Estimate & SE & t.value & p.value\\\\\n",
       "\\hline\n",
       "ma1 & -0.6138 & 0.0526 & -11.6771 & 0.000\\\\\n",
       "\\hline\n",
       "constant & 0.0337 & 0.0291 & 1.1597 & 0.247\\\\\n",
       "\\hline\n",
       "\\end{tabular}"
      ]
     },
     "metadata": {},
     "output_type": "display_data"
    }
   ],
   "source": [
    "knitr::kable(res01$ttable, \"latex\")"
   ]
  },
  {
   "cell_type": "code",
   "execution_count": 51,
   "metadata": {
    "vscode": {
     "languageId": "r"
    }
   },
   "outputs": [
    {
     "data": {
      "text/html": [
       "<table class=\"dataframe\">\n",
       "<caption>A matrix: 3 × 4 of type dbl</caption>\n",
       "<thead>\n",
       "\t<tr><th></th><th scope=col>Estimate</th><th scope=col>SE</th><th scope=col>t.value</th><th scope=col>p.value</th></tr>\n",
       "</thead>\n",
       "<tbody>\n",
       "\t<tr><th scope=row>ar1</th><td> 0.1575</td><td>0.0888</td><td>  1.7725</td><td>0.0772</td></tr>\n",
       "\t<tr><th scope=row>ma1</th><td>-0.7208</td><td>0.0644</td><td>-11.1974</td><td>0.0000</td></tr>\n",
       "\t<tr><th scope=row>constant</th><td> 0.0326</td><td>0.0249</td><td>  1.3087</td><td>0.1915</td></tr>\n",
       "</tbody>\n",
       "</table>\n"
      ],
      "text/latex": [
       "A matrix: 3 × 4 of type dbl\n",
       "\\begin{tabular}{r|llll}\n",
       "  & Estimate & SE & t.value & p.value\\\\\n",
       "\\hline\n",
       "\tar1 &  0.1575 & 0.0888 &   1.7725 & 0.0772\\\\\n",
       "\tma1 & -0.7208 & 0.0644 & -11.1974 & 0.0000\\\\\n",
       "\tconstant &  0.0326 & 0.0249 &   1.3087 & 0.1915\\\\\n",
       "\\end{tabular}\n"
      ],
      "text/markdown": [
       "\n",
       "A matrix: 3 × 4 of type dbl\n",
       "\n",
       "| <!--/--> | Estimate | SE | t.value | p.value |\n",
       "|---|---|---|---|---|\n",
       "| ar1 |  0.1575 | 0.0888 |   1.7725 | 0.0772 |\n",
       "| ma1 | -0.7208 | 0.0644 | -11.1974 | 0.0000 |\n",
       "| constant |  0.0326 | 0.0249 |   1.3087 | 0.1915 |\n",
       "\n"
      ],
      "text/plain": [
       "         Estimate SE     t.value  p.value\n",
       "ar1       0.1575  0.0888   1.7725 0.0772 \n",
       "ma1      -0.7208  0.0644 -11.1974 0.0000 \n",
       "constant  0.0326  0.0249   1.3087 0.1915 "
      ]
     },
     "metadata": {},
     "output_type": "display_data"
    }
   ],
   "source": [
    "\n",
    "# estimation du modèle (ARMA(1,1))\n",
    "res11$ttable"
   ]
  },
  {
   "cell_type": "markdown",
   "metadata": {},
   "source": [
    "Au seuil de 10%, on l'ARIMA(1,1,1) ne peut pas être simplifié. On conserve donc ce modèle. On a alors :\n",
    "\n",
    "$$\n",
    "    X_t - 0,16X_{t-1} = 0,03 + \\epsilon_t - 0,72\\epsilon_{t-1}\n",
    "$$\n",
    "\n",
    "Ainsi, pour la série d'origine (notée $Y_t$), comme $X_t = Y_t - Y_{t-1}$, on a $Y_t = Y_{t-1}+X_t$ et donc\n",
    "\n",
    "\\begin{align}\n",
    "    Y_t & = Y_{t-1} + 0,16X_{t-1} + 0,03 + \\epsilon_t - 0,72\\epsilon_{t-1}  \\\\\n",
    "    Y_t & = Y_{t-1} + 0,16(Y_{t-1}-Y_{t-2}) + 0,03 + \\epsilon_t - 0,72\\epsilon_{t-1}  \\\\\n",
    "    Y_t & = 1,16Y_{t-1} - 0,16Y_{t-2} + 0,03 + \\epsilon_t - 0,72\\epsilon_{t-1}\n",
    "\\end{align}"
   ]
  },
  {
   "cell_type": "markdown",
   "metadata": {},
   "source": [
    "# Partie 3 - Prévisions"
   ]
  },
  {
   "cell_type": "markdown",
   "metadata": {},
   "source": [
    "Calcul des erreurs de prévisions (voir document Pdf joint à ce dossier pour le detail des calcul)\n",
    "La region de confiance de la prevision de \n",
    "\n",
    "\n",
    "$ \\begin{pmatrix} X_{T+1} \\\\ X_{T+2} \\end{pmatrix} $ est donné par:\n",
    "\n",
    "\\begin{equation}\n",
    "\\boxed{\n",
    "    \\begin{pmatrix}\n",
    "        \\hat X_{T+1|T} \\\\\n",
    "        \\hat X_{T+2|T}\n",
    "    \\end{pmatrix}\n",
    "    +\n",
    "    \\left\\{ e \\in \\mathbb{R}^2\\ |\\ e'\\Omega^{-1}e \\leq q_{1-\\alpha} \\right\\}\n",
    "}\n",
    "\\end{equation}\n"
   ]
  },
  {
   "cell_type": "code",
   "execution_count": null,
   "metadata": {},
   "outputs": [],
   "source": [
    "Pour estimer cette région de confiance, il faut estimer $\\Omega$. Comme $\\phi$ et $\\psi$ sont déjà estimés, il ne reste qu'à estimer $\\sigma$, à partir des résidus observés. La région obtenue ne sera alors valable qu'asymptotiquement. Pour obtenir une région de confiance exacte, on peut aussi utiliser le fait que \n"
   ]
  },
  {
   "cell_type": "markdown",
   "metadata": {},
   "source": [
    "### Estimation de $\\Omega$"
   ]
  },
  {
   "cell_type": "code",
   "execution_count": 53,
   "metadata": {
    "scrolled": true,
    "vscode": {
     "languageId": "r"
    }
   },
   "outputs": [
    {
     "data": {
      "text/html": [
       "1.92806927812054"
      ],
      "text/latex": [
       "1.92806927812054"
      ],
      "text/markdown": [
       "1.92806927812054"
      ],
      "text/plain": [
       "[1] 1.928069"
      ]
     },
     "metadata": {},
     "output_type": "display_data"
    }
   ],
   "source": [
    "# recupération de la variance des résidus\n",
    "sigma2 <- var(res11$fit$residuals)\n",
    "sigma2"
   ]
  },
  {
   "cell_type": "code",
   "execution_count": 54,
   "metadata": {
    "vscode": {
     "languageId": "r"
    }
   },
   "outputs": [
    {
     "data": {
      "text/html": [
       "<table class=\"dataframe\">\n",
       "<caption>A matrix: 2 × 2 of type dbl</caption>\n",
       "<tbody>\n",
       "\t<tr><td> 1.928069</td><td>-1.086125</td></tr>\n",
       "\t<tr><td>-1.086125</td><td> 2.539908</td></tr>\n",
       "</tbody>\n",
       "</table>\n"
      ],
      "text/latex": [
       "A matrix: 2 × 2 of type dbl\n",
       "\\begin{tabular}{ll}\n",
       "\t  1.928069 & -1.086125\\\\\n",
       "\t -1.086125 &  2.539908\\\\\n",
       "\\end{tabular}\n"
      ],
      "text/markdown": [
       "\n",
       "A matrix: 2 × 2 of type dbl\n",
       "\n",
       "|  1.928069 | -1.086125 |\n",
       "| -1.086125 |  2.539908 |\n",
       "\n"
      ],
      "text/plain": [
       "     [,1]      [,2]     \n",
       "[1,]  1.928069 -1.086125\n",
       "[2,] -1.086125  2.539908"
      ]
     },
     "metadata": {},
     "output_type": "display_data"
    }
   ],
   "source": [
    "# Recupération des coefficients\n",
    "phi <- res11$fit$coef[\"ar1\"]\n",
    "psi <- res11$fit$coef[\"ma1\"]\n",
    "\n",
    "# Calcul de la matrix de variance covariance.\n",
    "omega <- sigma2 * matrix(\n",
    "    c(\n",
    "        1, phi + psi,\n",
    "        phi + psi, 1 + (phi + psi)**2\n",
    "    ),\n",
    "    nrow = 2,\n",
    "    ncol = 2\n",
    ")\n",
    "omega"
   ]
  },
  {
   "cell_type": "code",
   "execution_count": 55,
   "metadata": {
    "vscode": {
     "languageId": "r"
    }
   },
   "outputs": [
    {
     "data": {
      "text/html": [
       "<table class=\"dataframe\">\n",
       "<caption>A matrix: 2 × 2 of type dbl</caption>\n",
       "<tbody>\n",
       "\t<tr><td>0.6832391</td><td>0.2921693</td></tr>\n",
       "\t<tr><td>0.2921693</td><td>0.5186536</td></tr>\n",
       "</tbody>\n",
       "</table>\n"
      ],
      "text/latex": [
       "A matrix: 2 × 2 of type dbl\n",
       "\\begin{tabular}{ll}\n",
       "\t 0.6832391 & 0.2921693\\\\\n",
       "\t 0.2921693 & 0.5186536\\\\\n",
       "\\end{tabular}\n"
      ],
      "text/markdown": [
       "\n",
       "A matrix: 2 × 2 of type dbl\n",
       "\n",
       "| 0.6832391 | 0.2921693 |\n",
       "| 0.2921693 | 0.5186536 |\n",
       "\n"
      ],
      "text/plain": [
       "     [,1]      [,2]     \n",
       "[1,] 0.6832391 0.2921693\n",
       "[2,] 0.2921693 0.5186536"
      ]
     },
     "metadata": {},
     "output_type": "display_data"
    }
   ],
   "source": [
    "# Inverse devaraincxe covariance la matrice de \n",
    "omega_inv <- matlib::inv(omega)\n",
    "omega_inv"
   ]
  },
  {
   "cell_type": "code",
   "execution_count": 56,
   "metadata": {
    "vscode": {
     "languageId": "r"
    }
   },
   "outputs": [
    {
     "data": {
      "text/html": [
       "5.99146454710798"
      ],
      "text/latex": [
       "5.99146454710798"
      ],
      "text/markdown": [
       "5.99146454710798"
      ],
      "text/plain": [
       "[1] 5.991465"
      ]
     },
     "metadata": {},
     "output_type": "display_data"
    }
   ],
   "source": [
    "q95 <- qchisq(.95, df = 2)\n",
    "q95"
   ]
  },
  {
   "cell_type": "markdown",
   "metadata": {},
   "source": [
    "### Prédiction des valeurs futures"
   ]
  },
  {
   "cell_type": "code",
   "execution_count": 60,
   "metadata": {
    "vscode": {
     "languageId": "r"
    }
   },
   "outputs": [
    {
     "data": {
      "text/html": [
       "<table class=\"dataframe\">\n",
       "<caption>A Time Series: 1 × 2</caption>\n",
       "<thead>\n",
       "\t<tr><th></th><th scope=col>Jan</th><th scope=col>Feb</th></tr>\n",
       "</thead>\n",
       "<tbody>\n",
       "\t<tr><th scope=row>2019</th><td>-0.40230347</td><td>-0.03589077</td></tr>\n",
       "</tbody>\n",
       "</table>\n"
      ],
      "text/latex": [
       "A Time Series: 1 × 2\n",
       "\\begin{tabular}{r|ll}\n",
       "  & Jan & Feb\\\\\n",
       "\\hline\n",
       "\t2019 & -0.40230347 & -0.03589077\\\\\n",
       "\\end{tabular}\n"
      ],
      "text/markdown": [
       "\n",
       "A Time Series: 1 × 2\n",
       "\n",
       "| <!--/--> | Jan | Feb |\n",
       "|---|---|---|\n",
       "| 2019 | -0.40230347 | -0.03589077 |\n",
       "\n"
      ],
      "text/plain": [
       "     Jan         Feb        \n",
       "2019 -0.40230347 -0.03589077"
      ]
     },
     "metadata": {},
     "output_type": "display_data"
    },
    {
     "data": {
      "image/png": "[encoded data removed]",
      "text/plain": [
       "plot without title"
      ]
     },
     "metadata": {
      "image/png": {
       "height": 420,
       "width": 600
      }
     },
     "output_type": "display_data"
    }
   ],
   "source": [
    "# representation des valeurs prédites et de l'intervale de confiance.\n",
    "predictions <- astsa::sarima.for(\n",
    "    diff1, n.ahead = 2,\n",
    "    p = 1, d = 0, q = 1,\n",
    "    plot = TRUE\n",
    "    )$pred\n",
    "predictions"
   ]
  },
  {
   "cell_type": "markdown",
   "metadata": {},
   "source": [
    "### Région de confiance"
   ]
  },
  {
   "cell_type": "code",
   "execution_count": 64,
   "metadata": {
    "vscode": {
     "languageId": "r"
    }
   },
   "outputs": [
    {
     "data": {
      "image/png": "[encoded data removed]",
      "text/plain": [
       "plot without title"
      ]
     },
     "metadata": {
      "image/png": {
       "height": 420,
       "width": 600
      }
     },
     "output_type": "display_data"
    }
   ],
   "source": [
    "region <- ellipse::ellipse(omega, centre = predictions, level = .95)\n",
    "\n",
    "par(mar = c(4, 4, 3, 5))\n",
    "\n",
    "plot(region, type = \"l\", axes = F, xlab = \"\", ylab = \"\")\n",
    "par(new = T)\n",
    "plot(predictions[1], predictions[2], axes = F, xlab = \"\", ylab = \"\")\n",
    "par(new = T)\n",
    "plot(0.25, -0.49, axes = F, xlab = \"\", ylab = \"\", col = \"blue\", pch = 3)\n",
    "\n",
    "axis(1, ylim = c(-1, 1), at = seq(-1, 1, by = .1))\n",
    "mtext(\"Prévision pour janvier 2019\", side = 1, line = 2.5)\n",
    "axis(2, ylim = c(-1, 1), at = seq(-1, 1, by = .1))\n",
    "mtext(\"Prévision pour février 2019\", side = 2, line = 2.5)"
   ]
  }
 ],
 "metadata": {
  "interpreter": {
   "hash": "aeedeec43d1b6bcfe59413205461a805924024c9f452dd2556515443bdc00560"
  },
  "kernelspec": {
   "display_name": "R",
   "language": "R",
   "name": "ir"
  },
  "language_info": {
   "codemirror_mode": "r",
   "file_extension": ".r",
   "mimetype": "text/x-r-source",
   "name": "R",
   "pygments_lexer": "r",
   "version": "4.1.0"
  }
 },
 "nbformat": 4,
 "nbformat_minor": 2
}
